{
 "cells": [
  {
   "cell_type": "code",
   "execution_count": 1,
   "metadata": {
    "id": "BLlrsDp2iIAR"
   },
   "outputs": [],
   "source": [
    "import pandas as pd\n",
    "import numpy as np\n",
    "import math"
   ]
  },
  {
   "cell_type": "code",
   "execution_count": 2,
   "metadata": {
    "colab": {
     "base_uri": "https://localhost:8080/"
    },
    "id": "uX9njAI0w51e",
    "outputId": "1d2fbbc0-8d4c-42a7-e91f-2a5472ae470f"
   },
   "outputs": [
    {
     "name": "stdout",
     "output_type": "stream",
     "text": [
      "376.99111843077515\n"
     ]
    }
   ],
   "source": [
    "frequency = 60 # Example of value\n",
    "\n",
    "def radian_frequency(frequency):\n",
    "    radian_frequency =  2*math.pi*frequency\n",
    "    return radian_frequency\n",
    "print(radian_frequency(60))"
   ]
  },
  {
   "cell_type": "code",
   "execution_count": 3,
   "metadata": {
    "colab": {
     "base_uri": "https://localhost:8080/"
    },
    "id": "4OP_1-RxxskL",
    "outputId": "16f1d0f8-0fa1-458a-a11e-3680227490c7"
   },
   "outputs": [
    {
     "name": "stdout",
     "output_type": "stream",
     "text": [
      "[(0.02+0.04j), (0.01+0.03j), (0.0125+0.0215j)]\n"
     ]
    }
   ],
   "source": [
    "L_1_2  = 0.04/radian_frequency(60)\n",
    "L_1_3 = 0.03/radian_frequency(60)\n",
    "L_2_3 = 0.0215/radian_frequency(60)\n",
    "\n",
    "R_1_2 = 0.02\n",
    "R_1_3 = 0.01\n",
    "R_2_3 = 0.0125\n",
    "\n",
    "zetha = []\n",
    "\n",
    "for L, R in zip([L_1_2, L_1_3, L_2_3], [R_1_2, R_1_3, R_2_3]):\n",
    "    zetha.append(R + 1j*radian_frequency(60)* L)\n",
    "\n",
    "\n",
    "print(zetha)"
   ]
  },
  {
   "cell_type": "code",
   "execution_count": 4,
   "metadata": {
    "colab": {
     "base_uri": "https://localhost:8080/"
    },
    "id": "BKi_pCOe05Gz",
    "outputId": "9344fd8a-9fe8-419a-d6c6-74423f61bbd3"
   },
   "outputs": [
    {
     "name": "stdout",
     "output_type": "stream",
     "text": [
      "[25.0, 33.333333333333336, 46.51162790697675]\n"
     ]
    }
   ],
   "source": [
    "y_vector =  []\n",
    "\n",
    "for i in range(len(zetha)):\n",
    "  y_vector.append(1/np.imag(zetha[i]))\n",
    "\n",
    "\n",
    "print(y_vector)"
   ]
  },
  {
   "cell_type": "code",
   "execution_count": 5,
   "metadata": {
    "id": "PJAMRve528ra"
   },
   "outputs": [],
   "source": [
    "\n",
    "def calculate_y_bus(R, L, C, n, m):\n",
    "  y_bus_set = set()\n",
    "\n",
    "  #def build_admittance_matrices(R, L, C, X_i, X_j, i, j, f, aprox = True):\n"
   ]
  },
  {
   "cell_type": "code",
   "execution_count": 6,
   "metadata": {
    "id": "4WSXlCr-69lr"
   },
   "outputs": [],
   "source": [
    "def build_admittance_matrices(R, L, C, X_i, X_j, i, j, f, aprox = True, mode=1):\n",
    "    \"\"\"\n",
    "    Construye Ybus, B, Bprime (B′) y Bdoubleprime (B″) a partir de una lista de items:\n",
    "      ('R', i, j, R_ij)           # oh\n",
    "    Parámetros:\n",
    "      f: frecuencia en Hz\n",
    "      n_buses: si None, se infiere del máx índice observado\n",
    "      one_based: True si los índices vienen 1..N, False si 0..N-1\n",
    "    Retorna:\n",
    "      dict con 'Ybus', 'B', 'Bprime', 'Bdoubleprime'\n",
    "    \"\"\"\n",
    "    #n = len(R)\n",
    "    n = max(max(i),max(j))\n",
    "\n",
    "    w = 2*np.pi*f\n",
    "    if mode == 1:\n",
    "      X = [L[i] * w for i in range(len(L))]\n",
    "    elif mode == 2:\n",
    "      X = L\n",
    "    if aprox:\n",
    "        Y = [1/(1j*X[i]) for i in range(len(X))]\n",
    "    else:\n",
    "        Y = [1/(1j*w*X[i]+R[i]) for i in range(len(R))]\n",
    "    Y_matrix = np.array([[0j for _ in range(n)] for _ in range(n)])\n",
    "    print(Y_matrix)\n",
    "    counter = 0\n",
    "    for i_index,j_index in zip(i,j):\n",
    "        print(i_index, j_index)\n",
    "        Y_matrix[i_index-1][j_index-1] = -Y[counter]\n",
    "        Y_matrix[j_index-1][i_index-1] = -Y[counter]\n",
    "        counter += 1\n",
    "    for i_index in range(len(Y_matrix)):\n",
    "      for j_index in range(len(Y_matrix)):\n",
    "          if j_index != i_index:\n",
    "            Y_matrix[i_index][i_index] -= Y_matrix[i_index][j_index]\n",
    "    return Y_matrix"
   ]
  },
  {
   "cell_type": "code",
   "execution_count": 7,
   "metadata": {
    "colab": {
     "base_uri": "https://localhost:8080/"
    },
    "id": "ZhWGjzaw_Ob2",
    "outputId": "92275da6-6449-445f-db05-5b13521f743c"
   },
   "outputs": [
    {
     "name": "stdout",
     "output_type": "stream",
     "text": [
      "[[0.+0.j 0.+0.j 0.+0.j 0.+0.j 0.+0.j 0.+0.j]\n",
      " [0.+0.j 0.+0.j 0.+0.j 0.+0.j 0.+0.j 0.+0.j]\n",
      " [0.+0.j 0.+0.j 0.+0.j 0.+0.j 0.+0.j 0.+0.j]\n",
      " [0.+0.j 0.+0.j 0.+0.j 0.+0.j 0.+0.j 0.+0.j]\n",
      " [0.+0.j 0.+0.j 0.+0.j 0.+0.j 0.+0.j 0.+0.j]\n",
      " [0.+0.j 0.+0.j 0.+0.j 0.+0.j 0.+0.j 0.+0.j]]\n",
      "1 2\n",
      "1 4\n",
      "1 5\n",
      "2 3\n",
      "2 4\n",
      "2 5\n",
      "2 6\n",
      "3 5\n",
      "3 6\n",
      "4 5\n",
      "5 6\n"
     ]
    },
    {
     "data": {
      "text/plain": [
       "array([[ 0.-13.33333333j, -0. +5.j        ,  0. +0.j        ,\n",
       "        -0. +5.j        , -0. +3.33333333j,  0. +0.j        ],\n",
       "       [-0. +5.j        ,  0.-27.33333333j, -0. +4.j        ,\n",
       "        -0.+10.j        , -0. +3.33333333j, -0. +5.j        ],\n",
       "       [ 0. +0.j        , -0. +4.j        ,  0.-17.33333333j,\n",
       "         0. +0.j        , -0. +3.33333333j, -0.+10.j        ],\n",
       "       [-0. +5.j        , -0.+10.j        ,  0. +0.j        ,\n",
       "         0.-17.5j       , -0. +2.5j       ,  0. +0.j        ],\n",
       "       [-0. +3.33333333j, -0. +3.33333333j, -0. +3.33333333j,\n",
       "        -0. +2.5j       ,  0.-15.83333333j, -0. +3.33333333j],\n",
       "       [ 0. +0.j        , -0. +5.j        , -0.+10.j        ,\n",
       "         0. +0.j        , -0. +3.33333333j,  0.-18.33333333j]])"
      ]
     },
     "execution_count": 7,
     "metadata": {},
     "output_type": "execute_result"
    }
   ],
   "source": [
    "R = np.array([0.10,0.05,0.08,0.05, 0.05, 0.10, 0.07, 0.12, 0.02, 0.20, 0.10])\n",
    "L = np.array([0.20, 0.20, 0.30, 0.25, 0.10, 0.30, 0.20, 0.30, 0.10, 0.40, 0.30])\n",
    "\n",
    "Y = build_admittance_matrices(R, L, 0,0,0, np.array([1,1,1,2,2,2,2,3,3,4,5]), np.array([2,4,5,3,4,5,6,5,6,5,6]), 60, mode=2)\n",
    "Y"
   ]
  },
  {
   "cell_type": "code",
   "execution_count": 8,
   "metadata": {
    "id": "Zk0ec0ZmEhDX"
   },
   "outputs": [],
   "source": [
    "node_type = {'S': 1,  'L': 2 , 'G': 3}"
   ]
  },
  {
   "cell_type": "code",
   "execution_count": 10,
   "metadata": {
    "colab": {
     "base_uri": "https://localhost:8080/"
    },
    "id": "LihpkhOVCxX7",
    "outputId": "1d3416fc-5ce6-4aa4-eab2-d3bf62cdab31"
   },
   "outputs": [
    {
     "name": "stdout",
     "output_type": "stream",
     "text": [
      "b_prima [[-27.33333333+0.j   4.        +0.j]\n",
      " [  4.        +0.j -17.33333333+0.j]]\n",
      "b_prima_prima [[-27.33333333+0.j]]\n"
     ]
    }
   ],
   "source": [
    "length_L = 1 #len(node_type['L'])\n",
    "length_G = 1#len(node_type['G'])\n",
    "\n",
    "def boolean_b_prime(node_type, i):\n",
    "  if (i == node_type['L'] or i == node_type['G']) and i != node_type['S']:\n",
    "    return True\n",
    "  else:\n",
    "    return False\n",
    "def boolean_b_prime_prime(node_type, i):\n",
    "  if (i == node_type['L']) and i != node_type['S']:\n",
    "    return True\n",
    "  else:\n",
    "    return False\n",
    "\n",
    "\n",
    "lengh_b_prime = length_L + length_G\n",
    "\n",
    "B = Y.imag\n",
    "B_prime = np.array([[0j for _ in range(lengh_b_prime)] for _ in range(lengh_b_prime)])\n",
    "\n",
    "ii = 0\n",
    "jj = 0\n",
    "for i_index in range(len(B)):\n",
    "  for j_index in range(len(B[0])):\n",
    "      if boolean_b_prime(node_type, i_index+1) and boolean_b_prime(node_type,j_index+1):\n",
    "        B_prime[ii][jj] = B[i_index][j_index]\n",
    "        if ii<lengh_b_prime-1:\n",
    "          ii += 1\n",
    "        else:\n",
    "          ii = 0\n",
    "          jj += 1\n",
    "\n",
    "\n",
    "B_prime_prime = np.array([[0j for _ in range(length_L)] for _ in range(length_L)])\n",
    "\n",
    "ii = 0\n",
    "jj = 0\n",
    "for i_index in range(len(B)):\n",
    "  for j_index in range(len(B[0])):\n",
    "      if boolean_b_prime_prime(node_type, i_index+1) and boolean_b_prime_prime(node_type,j_index+1):\n",
    "        B_prime_prime[ii][jj] = B[i_index][j_index]\n",
    "        if ii<lengh_b_prime-1:\n",
    "          ii += 1\n",
    "        else:\n",
    "          ii = 0\n",
    "          jj += 1\n",
    "B_prime_prime\n",
    "\n",
    "print('b_prima',B_prime)\n",
    "print('b_prima_prima',B_prime_prime)"
   ]
  },
  {
   "cell_type": "code",
   "execution_count": null,
   "metadata": {},
   "outputs": [],
   "source": []
  }
 ],
 "metadata": {
  "colab": {
   "provenance": []
  },
  "kernelspec": {
   "display_name": "Python 3 [Default]",
   "language": "python",
   "name": "python3"
  },
  "language_info": {
   "codemirror_mode": {
    "name": "ipython",
    "version": 3
   },
   "file_extension": ".py",
   "mimetype": "text/x-python",
   "name": "python",
   "nbconvert_exporter": "python",
   "pygments_lexer": "ipython3",
   "version": "3.11.9"
  }
 },
 "nbformat": 4,
 "nbformat_minor": 4
}
