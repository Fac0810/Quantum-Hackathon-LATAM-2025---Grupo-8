{
 "cells": [
  {
   "cell_type": "code",
   "execution_count": 1,
   "id": "948911ba-068d-4545-b9f8-9d3259bcfa90",
   "metadata": {},
   "outputs": [
    {
     "name": "stdout",
     "output_type": "stream",
     "text": [
      "Requirement already satisfied: pip in /opt/conda/lib/python3.11/site-packages (25.2)\n",
      "Requirement already satisfied: qiskit in /opt/conda/lib/python3.11/site-packages (2.2.1)\n",
      "Requirement already satisfied: rustworkx>=0.15.0 in /opt/conda/lib/python3.11/site-packages (from qiskit) (0.17.1)\n",
      "Requirement already satisfied: numpy<3,>=1.17 in /opt/conda/lib/python3.11/site-packages (from qiskit) (2.3.3)\n",
      "Requirement already satisfied: scipy>=1.5 in /opt/conda/lib/python3.11/site-packages (from qiskit) (1.16.2)\n",
      "Requirement already satisfied: dill>=0.3 in /opt/conda/lib/python3.11/site-packages (from qiskit) (0.4.0)\n",
      "Requirement already satisfied: stevedore>=3.0.0 in /opt/conda/lib/python3.11/site-packages (from qiskit) (5.5.0)\n",
      "Requirement already satisfied: typing-extensions in /opt/conda/lib/python3.11/site-packages (from qiskit) (4.14.0)\n",
      "Requirement already satisfied: qutip in /opt/conda/lib/python3.11/site-packages (5.2.1)\n",
      "Requirement already satisfied: numpy>=1.22 in /opt/conda/lib/python3.11/site-packages (from qutip) (2.3.3)\n",
      "Requirement already satisfied: scipy!=1.16.0,>=1.9 in /opt/conda/lib/python3.11/site-packages (from qutip) (1.16.2)\n",
      "Requirement already satisfied: packaging in /opt/conda/lib/python3.11/site-packages (from qutip) (24.0)\n",
      "Requirement already satisfied: pylatexenc in /opt/conda/lib/python3.11/site-packages (2.10)\n",
      "Requirement already satisfied: cirq in /opt/conda/lib/python3.11/site-packages (1.6.1)\n",
      "Requirement already satisfied: cirq-aqt==1.6.1 in /opt/conda/lib/python3.11/site-packages (from cirq) (1.6.1)\n",
      "Requirement already satisfied: cirq-core==1.6.1 in /opt/conda/lib/python3.11/site-packages (from cirq) (1.6.1)\n",
      "Requirement already satisfied: cirq-google==1.6.1 in /opt/conda/lib/python3.11/site-packages (from cirq) (1.6.1)\n",
      "Requirement already satisfied: cirq-ionq==1.6.1 in /opt/conda/lib/python3.11/site-packages (from cirq) (1.6.1)\n",
      "Requirement already satisfied: cirq-pasqal==1.6.1 in /opt/conda/lib/python3.11/site-packages (from cirq) (1.6.1)\n",
      "Requirement already satisfied: cirq-web==1.6.1 in /opt/conda/lib/python3.11/site-packages (from cirq) (1.6.1)\n",
      "Requirement already satisfied: requests~=2.32 in /opt/conda/lib/python3.11/site-packages (from cirq-aqt==1.6.1->cirq) (2.32.5)\n",
      "Requirement already satisfied: attrs>=21.3.0 in /opt/conda/lib/python3.11/site-packages (from cirq-core==1.6.1->cirq) (23.2.0)\n",
      "Requirement already satisfied: duet>=0.2.8 in /opt/conda/lib/python3.11/site-packages (from cirq-core==1.6.1->cirq) (0.2.9)\n",
      "Requirement already satisfied: matplotlib~=3.8 in /opt/conda/lib/python3.11/site-packages (from cirq-core==1.6.1->cirq) (3.10.6)\n",
      "Requirement already satisfied: networkx~=3.4 in /opt/conda/lib/python3.11/site-packages (from cirq-core==1.6.1->cirq) (3.5)\n",
      "Requirement already satisfied: numpy>=1.26 in /opt/conda/lib/python3.11/site-packages (from cirq-core==1.6.1->cirq) (2.3.3)\n",
      "Requirement already satisfied: pandas~=2.1 in /opt/conda/lib/python3.11/site-packages (from cirq-core==1.6.1->cirq) (2.3.2)\n",
      "Requirement already satisfied: sortedcontainers~=2.0 in /opt/conda/lib/python3.11/site-packages (from cirq-core==1.6.1->cirq) (2.4.0)\n",
      "Requirement already satisfied: scipy~=1.12 in /opt/conda/lib/python3.11/site-packages (from cirq-core==1.6.1->cirq) (1.16.2)\n",
      "Requirement already satisfied: sympy in /opt/conda/lib/python3.11/site-packages (from cirq-core==1.6.1->cirq) (1.14.0)\n",
      "Requirement already satisfied: typing_extensions>=4.2 in /opt/conda/lib/python3.11/site-packages (from cirq-core==1.6.1->cirq) (4.14.0)\n",
      "Requirement already satisfied: tqdm>=4.12 in /opt/conda/lib/python3.11/site-packages (from cirq-core==1.6.1->cirq) (4.66.4)\n",
      "Requirement already satisfied: google-api-core~=2.22 in /opt/conda/lib/python3.11/site-packages (from google-api-core[grpc]~=2.22->cirq-google==1.6.1->cirq) (2.25.2)\n",
      "Requirement already satisfied: proto-plus~=1.25 in /opt/conda/lib/python3.11/site-packages (from cirq-google==1.6.1->cirq) (1.26.1)\n",
      "Requirement already satisfied: protobuf<6.0dev,>=5.26.1 in /opt/conda/lib/python3.11/site-packages (from cirq-google==1.6.1->cirq) (5.29.5)\n",
      "Requirement already satisfied: typedunits in /opt/conda/lib/python3.11/site-packages (from cirq-google==1.6.1->cirq) (0.0.1)\n",
      "Requirement already satisfied: googleapis-common-protos<2.0.0,>=1.56.2 in /opt/conda/lib/python3.11/site-packages (from google-api-core~=2.22->google-api-core[grpc]~=2.22->cirq-google==1.6.1->cirq) (1.70.0)\n",
      "Requirement already satisfied: google-auth<3.0.0,>=2.14.1 in /opt/conda/lib/python3.11/site-packages (from google-api-core~=2.22->google-api-core[grpc]~=2.22->cirq-google==1.6.1->cirq) (2.41.1)\n",
      "Requirement already satisfied: grpcio<2.0.0,>=1.33.2 in /opt/conda/lib/python3.11/site-packages (from google-api-core[grpc]~=2.22->cirq-google==1.6.1->cirq) (1.75.1)\n",
      "Requirement already satisfied: grpcio-status<2.0.0,>=1.33.2 in /opt/conda/lib/python3.11/site-packages (from google-api-core[grpc]~=2.22->cirq-google==1.6.1->cirq) (1.71.2)\n",
      "Requirement already satisfied: cachetools<7.0,>=2.0.0 in /opt/conda/lib/python3.11/site-packages (from google-auth<3.0.0,>=2.14.1->google-api-core~=2.22->google-api-core[grpc]~=2.22->cirq-google==1.6.1->cirq) (6.2.0)\n",
      "Requirement already satisfied: pyasn1-modules>=0.2.1 in /opt/conda/lib/python3.11/site-packages (from google-auth<3.0.0,>=2.14.1->google-api-core~=2.22->google-api-core[grpc]~=2.22->cirq-google==1.6.1->cirq) (0.4.2)\n",
      "Requirement already satisfied: rsa<5,>=3.1.4 in /opt/conda/lib/python3.11/site-packages (from google-auth<3.0.0,>=2.14.1->google-api-core~=2.22->google-api-core[grpc]~=2.22->cirq-google==1.6.1->cirq) (4.7.2)\n",
      "Requirement already satisfied: contourpy>=1.0.1 in /opt/conda/lib/python3.11/site-packages (from matplotlib~=3.8->cirq-core==1.6.1->cirq) (1.3.3)\n",
      "Requirement already satisfied: cycler>=0.10 in /opt/conda/lib/python3.11/site-packages (from matplotlib~=3.8->cirq-core==1.6.1->cirq) (0.12.1)\n",
      "Requirement already satisfied: fonttools>=4.22.0 in /opt/conda/lib/python3.11/site-packages (from matplotlib~=3.8->cirq-core==1.6.1->cirq) (4.59.2)\n",
      "Requirement already satisfied: kiwisolver>=1.3.1 in /opt/conda/lib/python3.11/site-packages (from matplotlib~=3.8->cirq-core==1.6.1->cirq) (1.4.9)\n",
      "Requirement already satisfied: packaging>=20.0 in /opt/conda/lib/python3.11/site-packages (from matplotlib~=3.8->cirq-core==1.6.1->cirq) (24.0)\n",
      "Requirement already satisfied: pillow>=8 in /opt/conda/lib/python3.11/site-packages (from matplotlib~=3.8->cirq-core==1.6.1->cirq) (11.3.0)\n",
      "Requirement already satisfied: pyparsing>=2.3.1 in /opt/conda/lib/python3.11/site-packages (from matplotlib~=3.8->cirq-core==1.6.1->cirq) (3.2.3)\n",
      "Requirement already satisfied: python-dateutil>=2.7 in /opt/conda/lib/python3.11/site-packages (from matplotlib~=3.8->cirq-core==1.6.1->cirq) (2.9.0)\n",
      "Requirement already satisfied: pytz>=2020.1 in /opt/conda/lib/python3.11/site-packages (from pandas~=2.1->cirq-core==1.6.1->cirq) (2024.1)\n",
      "Requirement already satisfied: tzdata>=2022.7 in /opt/conda/lib/python3.11/site-packages (from pandas~=2.1->cirq-core==1.6.1->cirq) (2025.2)\n",
      "Requirement already satisfied: charset_normalizer<4,>=2 in /opt/conda/lib/python3.11/site-packages (from requests~=2.32->cirq-aqt==1.6.1->cirq) (3.3.2)\n",
      "Requirement already satisfied: idna<4,>=2.5 in /opt/conda/lib/python3.11/site-packages (from requests~=2.32->cirq-aqt==1.6.1->cirq) (3.7)\n",
      "Requirement already satisfied: urllib3<3,>=1.21.1 in /opt/conda/lib/python3.11/site-packages (from requests~=2.32->cirq-aqt==1.6.1->cirq) (2.2.1)\n",
      "Requirement already satisfied: certifi>=2017.4.17 in /opt/conda/lib/python3.11/site-packages (from requests~=2.32->cirq-aqt==1.6.1->cirq) (2024.2.2)\n",
      "Requirement already satisfied: pyasn1>=0.1.3 in /opt/conda/lib/python3.11/site-packages (from rsa<5,>=3.1.4->google-auth<3.0.0,>=2.14.1->google-api-core~=2.22->google-api-core[grpc]~=2.22->cirq-google==1.6.1->cirq) (0.6.1)\n",
      "Requirement already satisfied: six>=1.5 in /opt/conda/lib/python3.11/site-packages (from python-dateutil>=2.7->matplotlib~=3.8->cirq-core==1.6.1->cirq) (1.16.0)\n",
      "Requirement already satisfied: mpmath<1.4,>=1.1.0 in /opt/conda/lib/python3.11/site-packages (from sympy->cirq-core==1.6.1->cirq) (1.3.0)\n",
      "Requirement already satisfied: cython>=3.0.0 in /opt/conda/lib/python3.11/site-packages (from typedunits->cirq-google==1.6.1->cirq) (3.1.4)\n",
      "Requirement already satisfied: qbraid in /opt/conda/lib/python3.11/site-packages (0.9.10)\n",
      "Requirement already satisfied: rustworkx>=0.15.0 in /opt/conda/lib/python3.11/site-packages (from qbraid) (0.17.1)\n",
      "Requirement already satisfied: numpy>=1.17 in /opt/conda/lib/python3.11/site-packages (from qbraid) (2.3.3)\n",
      "Requirement already satisfied: openqasm3>=0.4.0 in /opt/conda/lib/python3.11/site-packages (from openqasm3[parser]>=0.4.0->qbraid) (1.0.1)\n",
      "Requirement already satisfied: qbraid-core>=0.1.39 in /opt/conda/lib/python3.11/site-packages (from qbraid) (0.1.41)\n",
      "Requirement already satisfied: pydantic<=2.11.1,>2.0.0 in /opt/conda/lib/python3.11/site-packages (from qbraid) (2.11.1)\n",
      "Requirement already satisfied: pydantic-core in /opt/conda/lib/python3.11/site-packages (from qbraid) (2.33.0)\n",
      "Requirement already satisfied: typing-extensions>=4.0.0 in /opt/conda/lib/python3.11/site-packages (from qbraid) (4.14.0)\n",
      "Requirement already satisfied: pyqasm<0.6.0,>=0.5.0 in /opt/conda/lib/python3.11/site-packages (from qbraid) (0.5.0)\n",
      "Requirement already satisfied: annotated-types>=0.6.0 in /opt/conda/lib/python3.11/site-packages (from pydantic<=2.11.1,>2.0.0->qbraid) (0.7.0)\n",
      "Requirement already satisfied: typing-inspection>=0.4.0 in /opt/conda/lib/python3.11/site-packages (from pydantic<=2.11.1,>2.0.0->qbraid) (0.4.1)\n",
      "Requirement already satisfied: antlr4_python3_runtime<4.14,>=4.7 in /opt/conda/lib/python3.11/site-packages (from openqasm3[parser]>=0.4.0->qbraid) (4.13.2)\n",
      "Requirement already satisfied: requests in /opt/conda/lib/python3.11/site-packages (from qbraid-core>=0.1.39->qbraid) (2.32.5)\n",
      "Requirement already satisfied: urllib3 in /opt/conda/lib/python3.11/site-packages (from qbraid-core>=0.1.39->qbraid) (2.2.1)\n",
      "Requirement already satisfied: packaging in /opt/conda/lib/python3.11/site-packages (from qbraid-core>=0.1.39->qbraid) (24.0)\n",
      "Requirement already satisfied: charset_normalizer<4,>=2 in /opt/conda/lib/python3.11/site-packages (from requests->qbraid-core>=0.1.39->qbraid) (3.3.2)\n",
      "Requirement already satisfied: idna<4,>=2.5 in /opt/conda/lib/python3.11/site-packages (from requests->qbraid-core>=0.1.39->qbraid) (3.7)\n",
      "Requirement already satisfied: certifi>=2017.4.17 in /opt/conda/lib/python3.11/site-packages (from requests->qbraid-core>=0.1.39->qbraid) (2024.2.2)\n",
      "Requirement already satisfied: qbraid_qir in /opt/conda/lib/python3.11/site-packages (0.4.0)\n",
      "Requirement already satisfied: pyqir<0.11.0,>=0.10.0 in /opt/conda/lib/python3.11/site-packages (from qbraid_qir) (0.10.9)\n",
      "Requirement already satisfied: ply in /opt/conda/lib/python3.11/site-packages (3.11)\n"
     ]
    }
   ],
   "source": [
    "!pip install --upgrade pip\n",
    "!pip install qiskit\n",
    "!pip install qutip\n",
    "!pip install pylatexenc\n",
    "!pip install cirq\n",
    "!pip install qbraid\n",
    "!pip install qbraid_qir\n",
    "!pip install ply\n",
    "\n",
    "!git config --global pull.rebase false\n"
   ]
  },
  {
   "cell_type": "code",
   "execution_count": 2,
   "id": "d10adfb8-4d4b-4af2-9f0d-1f46d0c8f3ff",
   "metadata": {},
   "outputs": [],
   "source": [
    "import math\n",
    "from math import asin\n",
    "\n",
    "import numpy as np\n",
    "import pandas as pd\n",
    "\n",
    "import cirq\n",
    "\n",
    "import qiskit\n",
    "from qiskit import QuantumRegister, ClassicalRegister, QuantumCircuit\n",
    "from qiskit.circuit.library import PhaseEstimation, UnitaryGate, HamiltonianGate\n",
    "from qiskit.quantum_info import Operator\n",
    "\n",
    "from qutip import rand_unitary\n",
    "\n",
    "from qbraid import QbraidProvider, ConversionGraph, QPROGRAM_REGISTRY, transpile\n",
    "from qbraid_qir.cirq import cirq_to_qir\n",
    "\n",
    "from typing import List, Tuple, Any"
   ]
  },
  {
   "cell_type": "markdown",
   "id": "2a88009f-75d1-4985-ad74-9a751a80d408",
   "metadata": {},
   "source": [
    "Let's first get B' and B''"
   ]
  },
  {
   "cell_type": "code",
   "execution_count": 3,
   "id": "3d1babab-3a03-45e7-964e-0ccf8a4bc6c1",
   "metadata": {},
   "outputs": [
    {
     "name": "stdout",
     "output_type": "stream",
     "text": [
      "376.99111843077515\n"
     ]
    }
   ],
   "source": [
    "frequency = 60 # Example of value\n",
    "\n",
    "def radian_frequency(frequency):\n",
    "    radian_frequency =  2*math.pi*frequency\n",
    "    return radian_frequency\n",
    "print(radian_frequency(60))"
   ]
  },
  {
   "cell_type": "code",
   "execution_count": 4,
   "id": "f4abd885-0dd0-414e-8084-759f2dc8cc4c",
   "metadata": {},
   "outputs": [
    {
     "name": "stdout",
     "output_type": "stream",
     "text": [
      "[(0.02+0.04j), (0.01+0.03j), (0.0125+0.0215j)]\n"
     ]
    }
   ],
   "source": [
    "L_1_2  = 0.04/radian_frequency(60)\n",
    "L_1_3 = 0.03/radian_frequency(60)\n",
    "L_2_3 = 0.0215/radian_frequency(60)\n",
    "\n",
    "R_1_2 = 0.02\n",
    "R_1_3 = 0.01\n",
    "R_2_3 = 0.0125\n",
    "\n",
    "zetha = []\n",
    "\n",
    "for L, R in zip([L_1_2, L_1_3, L_2_3], [R_1_2, R_1_3, R_2_3]):\n",
    "    zetha.append(R + 1j*radian_frequency(60)* L)\n",
    "\n",
    "\n",
    "print(zetha)"
   ]
  },
  {
   "cell_type": "code",
   "execution_count": 5,
   "id": "593c66b2-f2eb-4d4c-8b8c-4276cf787f08",
   "metadata": {},
   "outputs": [
    {
     "name": "stdout",
     "output_type": "stream",
     "text": [
      "[25.0, 33.333333333333336, 46.51162790697675]\n"
     ]
    }
   ],
   "source": [
    "y_vector =  []\n",
    "\n",
    "for i in range(len(zetha)):\n",
    "  y_vector.append(1/np.imag(zetha[i]))\n",
    "\n",
    "\n",
    "print(y_vector)"
   ]
  },
  {
   "cell_type": "code",
   "execution_count": 6,
   "id": "caf56b12-b9fd-443a-b3b4-2ba72b167114",
   "metadata": {},
   "outputs": [],
   "source": [
    "def calculate_y_bus(R, L, C, n, m):\n",
    "  y_bus_set = set()"
   ]
  },
  {
   "cell_type": "code",
   "execution_count": 7,
   "id": "9efb80bc-4333-4671-9bd4-219a5c3addba",
   "metadata": {},
   "outputs": [],
   "source": [
    "def build_admittance_matrices(R, L, C, X_i, X_j, i, j, f, aprox = True, mode=1):\n",
    "    \"\"\"\n",
    "    Construye Ybus, B, Bprime (B′) y Bdoubleprime (B″) a partir de una lista de items:\n",
    "      ('R', i, j, R_ij)           # oh\n",
    "    Parámetros:\n",
    "      f: frecuencia en Hz\n",
    "      n_buses: si None, se infiere del máx índice observado\n",
    "      one_based: True si los índices vienen 1..N, False si 0..N-1\n",
    "    Retorna:\n",
    "      dict con 'Ybus', 'B', 'Bprime', 'Bdoubleprime'\n",
    "    \"\"\"\n",
    "    #n = len(R)\n",
    "    n = max(max(i),max(j))\n",
    "\n",
    "    w = 2*np.pi*f\n",
    "    if mode == 1:\n",
    "      X = [L[i] * w for i in range(len(L))]\n",
    "    elif mode == 2:\n",
    "      X = L\n",
    "    if aprox:\n",
    "        Y = [1/(1j*X[i]) for i in range(len(X))]\n",
    "    else:\n",
    "        Y = [1/(1j*w*X[i]+R[i]) for i in range(len(R))]\n",
    "    Y_matrix = np.array([[0j for _ in range(n)] for _ in range(n)])\n",
    "    print(Y_matrix)\n",
    "    counter = 0\n",
    "    for i_index,j_index in zip(i,j):\n",
    "        print(i_index, j_index)\n",
    "        Y_matrix[i_index-1][j_index-1] = -Y[counter]\n",
    "        Y_matrix[j_index-1][i_index-1] = -Y[counter]\n",
    "        counter += 1\n",
    "    for i_index in range(len(Y_matrix)):\n",
    "      for j_index in range(len(Y_matrix)):\n",
    "          if j_index != i_index:\n",
    "            Y_matrix[i_index][i_index] -= Y_matrix[i_index][j_index]\n",
    "    return Y_matrix"
   ]
  },
  {
   "cell_type": "code",
   "execution_count": 8,
   "id": "adabbf72-96fb-4db6-a924-fe2f8b0c1912",
   "metadata": {},
   "outputs": [
    {
     "name": "stdout",
     "output_type": "stream",
     "text": [
      "[[0.+0.j 0.+0.j 0.+0.j 0.+0.j 0.+0.j 0.+0.j]\n",
      " [0.+0.j 0.+0.j 0.+0.j 0.+0.j 0.+0.j 0.+0.j]\n",
      " [0.+0.j 0.+0.j 0.+0.j 0.+0.j 0.+0.j 0.+0.j]\n",
      " [0.+0.j 0.+0.j 0.+0.j 0.+0.j 0.+0.j 0.+0.j]\n",
      " [0.+0.j 0.+0.j 0.+0.j 0.+0.j 0.+0.j 0.+0.j]\n",
      " [0.+0.j 0.+0.j 0.+0.j 0.+0.j 0.+0.j 0.+0.j]]\n",
      "1 2\n",
      "1 4\n",
      "1 5\n",
      "2 3\n",
      "2 4\n",
      "2 5\n",
      "2 6\n",
      "3 5\n",
      "3 6\n",
      "4 5\n",
      "5 6\n"
     ]
    },
    {
     "data": {
      "text/plain": [
       "array([[ 0.-13.33333333j, -0. +5.j        ,  0. +0.j        ,\n",
       "        -0. +5.j        , -0. +3.33333333j,  0. +0.j        ],\n",
       "       [-0. +5.j        ,  0.-27.33333333j, -0. +4.j        ,\n",
       "        -0.+10.j        , -0. +3.33333333j, -0. +5.j        ],\n",
       "       [ 0. +0.j        , -0. +4.j        ,  0.-17.33333333j,\n",
       "         0. +0.j        , -0. +3.33333333j, -0.+10.j        ],\n",
       "       [-0. +5.j        , -0.+10.j        ,  0. +0.j        ,\n",
       "         0.-17.5j       , -0. +2.5j       ,  0. +0.j        ],\n",
       "       [-0. +3.33333333j, -0. +3.33333333j, -0. +3.33333333j,\n",
       "        -0. +2.5j       ,  0.-15.83333333j, -0. +3.33333333j],\n",
       "       [ 0. +0.j        , -0. +5.j        , -0.+10.j        ,\n",
       "         0. +0.j        , -0. +3.33333333j,  0.-18.33333333j]])"
      ]
     },
     "execution_count": 8,
     "metadata": {},
     "output_type": "execute_result"
    }
   ],
   "source": [
    "R = np.array([0.10,0.05,0.08,0.05, 0.05, 0.10, 0.07, 0.12, 0.02, 0.20, 0.10])\n",
    "L = np.array([0.20, 0.20, 0.30, 0.25, 0.10, 0.30, 0.20, 0.30, 0.10, 0.40, 0.30])\n",
    "\n",
    "Y = build_admittance_matrices(R, L, 0,0,0, np.array([1,1,1,2,2,2,2,3,3,4,5]), np.array([2,4,5,3,4,5,6,5,6,5,6]), 60, mode=2)\n",
    "Y"
   ]
  },
  {
   "cell_type": "code",
   "execution_count": 9,
   "id": "51a0ae49-2628-4aa7-ad84-57bafa38cddc",
   "metadata": {},
   "outputs": [],
   "source": [
    "node_type = {'S': 1,  'L': 2 , 'G': 3}"
   ]
  },
  {
   "cell_type": "code",
   "execution_count": 10,
   "id": "ac5e19ee-625e-4e72-9921-6d63cf63b54e",
   "metadata": {},
   "outputs": [
    {
     "name": "stdout",
     "output_type": "stream",
     "text": [
      "b_prima [[-27.33333333+0.j   4.        +0.j]\n",
      " [  4.        +0.j -17.33333333+0.j]]\n",
      "b_prima_prima [[-27.33333333+0.j]]\n"
     ]
    }
   ],
   "source": [
    "length_L = 1 #len(node_type['L'])\n",
    "length_G = 1#len(node_type['G'])\n",
    "\n",
    "def boolean_b_prime(node_type, i):\n",
    "  if (i == node_type['L'] or i == node_type['G']) and i != node_type['S']:\n",
    "    return True\n",
    "  else:\n",
    "    return False\n",
    "def boolean_b_prime_prime(node_type, i):\n",
    "  if (i == node_type['L']) and i != node_type['S']:\n",
    "    return True\n",
    "  else:\n",
    "    return False\n",
    "\n",
    "\n",
    "lengh_b_prime = length_L + length_G\n",
    "\n",
    "B = Y.imag\n",
    "B_prime = np.array([[0j for _ in range(lengh_b_prime)] for _ in range(lengh_b_prime)])\n",
    "\n",
    "ii = 0\n",
    "jj = 0\n",
    "for i_index in range(len(B)):\n",
    "  for j_index in range(len(B[0])):\n",
    "      if boolean_b_prime(node_type, i_index+1) and boolean_b_prime(node_type,j_index+1):\n",
    "        B_prime[ii][jj] = B[i_index][j_index]\n",
    "        if ii<lengh_b_prime-1:\n",
    "          ii += 1\n",
    "        else:\n",
    "          ii = 0\n",
    "          jj += 1\n",
    "\n",
    "\n",
    "B_prime_prime = np.array([[0j for _ in range(length_L)] for _ in range(length_L)])\n",
    "\n",
    "ii = 0\n",
    "jj = 0\n",
    "for i_index in range(len(B)):\n",
    "  for j_index in range(len(B[0])):\n",
    "      if boolean_b_prime_prime(node_type, i_index+1) and boolean_b_prime_prime(node_type,j_index+1):\n",
    "        B_prime_prime[ii][jj] = B[i_index][j_index]\n",
    "        if ii<lengh_b_prime-1:\n",
    "          ii += 1\n",
    "        else:\n",
    "          ii = 0\n",
    "          jj += 1\n",
    "B_prime_prime\n",
    "\n",
    "print('b_prima',B_prime)\n",
    "print('b_prima_prima',B_prime_prime)"
   ]
  },
  {
   "cell_type": "markdown",
   "id": "fe967a07-6039-4127-9241-4b743a67f51a",
   "metadata": {},
   "source": [
    "Ahora que ya tenemos B' y B'', Vamos a crear el codigo a ejecutar"
   ]
  },
  {
   "cell_type": "code",
   "execution_count": 11,
   "id": "9baf157a-6b75-4903-904c-b81d9c41288a",
   "metadata": {},
   "outputs": [],
   "source": [
    "def reflected_gray(n: int) -> tuple:\n",
    "    \"\"\"Generate a reflected Gray code sequence of n bits starting at 1.\"\"\"\n",
    "    if n < 1:\n",
    "        return tuple()\n",
    "    \n",
    "    seq = [1]\n",
    "    for k in range(2, n + 1):\n",
    "        seq = seq + seq[:-1] + [k]\n",
    "    ret=seq+seq\n",
    "    return tuple(ret)"
   ]
  },
  {
   "cell_type": "code",
   "execution_count": 12,
   "id": "20eb9686-9f7e-45c2-8104-91accb9390f8",
   "metadata": {},
   "outputs": [],
   "source": [
    "def gray_code(n):\n",
    "    \"\"\"Generate n-bit Gray codes\"\"\"\n",
    "    return n ^ (n >> 1)\n",
    "\n",
    "def binary_vector(j, n):\n",
    "    \"\"\"Convert integer j to n-bit binary vector (LSB at end)\"\"\"\n",
    "    return [int(b) for b in format(j, f'0{n}b')]\n",
    "\n",
    "def theta_i(i, n_R):\n",
    "    total = 0\n",
    "    g_i_minus_1 = binary_vector(gray_code(i - 1), n_R)\n",
    "    for j in range(1, 2**n_R):\n",
    "        bin_j = binary_vector(j, n_R)\n",
    "        dot_product = sum([a * b for a, b in zip(bin_j, g_i_minus_1)]) % 2\n",
    "        sign = (-1) ** dot_product\n",
    "        total += sign * asin(1 / j)\n",
    "    return total / (2 ** n_R)\n"
   ]
  },
  {
   "cell_type": "code",
   "execution_count": 13,
   "id": "702e2368-cf32-43de-835e-0e9d1c16380e",
   "metadata": {},
   "outputs": [],
   "source": [
    "#getting theta y gray_sequence\n",
    "def obtain_theta(reg_num:int):\n",
    "    theta=[]\n",
    "    for i in range(1, 2**n_R + 1):\n",
    "        theta.append(theta_i(i, reg_num))"
   ]
  },
  {
   "cell_type": "code",
   "execution_count": null,
   "id": "fe8d4828-e4b0-4ac5-9c37-1cc2e34c71d6",
   "metadata": {},
   "outputs": [],
   "source": [
    "def AQE_opt(reg_num : int):\n",
    "\n",
    "    #generamos qc\n",
    "    qr_contr = QuantumRegister(reg_num)\n",
    "    qr_target = QuantumRegister(1)\n",
    "\n",
    "    qc = QuantumCircuit(qr_target,qr_contr)\n",
    "\n",
    "    # Define V\n",
    "    V_matrix = (1 / np.sqrt(2)) * np.array([\n",
    "        [1j, -1j],  \n",
    "        [1,   1]     \n",
    "    ])\n",
    "    \n",
    "    # Now compute the conjugate transpose for V†\n",
    "    V_dagger_matrix = V_matrix.conj().T\n",
    "    \n",
    "    # Create the unitary gates\n",
    "    V_dagger_gate = UnitaryGate(V_dagger_matrix, label=\"V†\")\n",
    "    \n",
    "    V_gate = UnitaryGate(V_matrix, label=\"V\")\n",
    "\n",
    "    #obtain aux variables\n",
    "    theta=obtain_theta(reg_num)\n",
    "    gray_sequence=reflected_gray(reg_num)\n",
    "\n",
    "\n",
    "    #create circuit\n",
    "    qc.append(V_dagger_gate, qr_target)\n",
    "    qc.h(qr_target)               \n",
    "    \n",
    "    for idx, i in enumerate(gray_sequence):\n",
    "        qc.rz(theta[idx], qr_target)   \n",
    "        qc.cz(qr_contr[i-1], qr_target)\n",
    "    \n",
    "    qc.h(qr_target)\n",
    "    qc.append(V_gate,[qr_target])\n",
    "\n",
    "    return qc\n",
    "\n",
    "# Draw the circuit\n",
    "qc = AQE_opt(4)\n",
    "qc.draw('mpl')\n"
   ]
  },
  {
   "cell_type": "code",
   "execution_count": null,
   "id": "038cf084-a058-444d-9659-90b2644bd58d",
   "metadata": {},
   "outputs": [],
   "source": [
    "def HHL_algorithm_original(Unitary : UnitaryGate,\n",
    "                           num_qubits_register : int,\n",
    "                           ):\n",
    "\n",
    "    Bp_op = Operator(B_prime)\n",
    "    Bp_op = Bp_op.to_instruction()\n",
    "\n",
    "    u_gate = HamiltonianGate(Bp_op, time = 1)\n",
    "\n",
    "    \n",
    "        \n",
    "    # step 1) phase estimation primitive\n",
    "    qpe_circuit = PhaseEstimation(num_evaluation_qubits= num_qubits_register,\n",
    "                                  unitary= Unitary)\n",
    "    aqc_circuit = AQE_opt(num_qubits_register)\n",
    "    \n",
    "    # step 2) Ancilla Quantum Encoding:\n",
    "    # revisar el Nielsen and Chuang si tiene dudas de esto:\n",
    "    # paper adjunto tambien\n",
    "    q_ancilla_reg, q_system_reg = qpe_circuit.qregs\n",
    "    aqe_reg = QuantumRegister(1)\n",
    "    cr = ClassicalRegister(1)\n",
    "\n",
    "    # incializamos el circuito cuántico del HHL:\n",
    "    hhl_qc = QuantumCircuit(q_ancilla_reg, q_system_reg, aqe_reg, cr)\n",
    "\n",
    "    # le añadimos la parte del QPE:\n",
    "    hhl_qc.compose(qpe_circuit, inplace=True)\n",
    "\n",
    "    hhl_qc.barrier()\n",
    "\n",
    "    # añadimos la parte del AQE:\n",
    "\n",
    "    aux_list = [q_anc for q_anc in q_ancilla_reg]\n",
    "    qubit_list_aqe = [num_qubits_register+len(q_system_reg)] + list(range(num_qubits_register))\n",
    "    \n",
    "    hhl_qc.compose(aqc_circuit, aqe_reg[:] + q_ancilla_reg[:], inplace= True)\n",
    "        \n",
    "    hhl_qc.barrier()\n",
    "\n",
    "    \n",
    "    # añadimos la inversa del QPE:\n",
    "    hhl_qc.compose(qpe_circuit.inverse(), inplace=True)\n",
    "\n",
    "    hhl_qc.barrier()\n",
    "    #medimos:\n",
    "    hhl_qc.measure(aqe_reg, cr)\n",
    "    \n",
    "    return hhl_qc"
   ]
  },
  {
   "cell_type": "code",
   "execution_count": null,
   "id": "b86f935e-e734-468e-8e25-15b46d86a26f",
   "metadata": {},
   "outputs": [],
   "source": [
    "u_try = rand_unitary(dimensions= 8).full()\n",
    "u_op = Operator(u_try).to_instruction()\n",
    "\n",
    "\n",
    "hhl_circuit = HHL_algorithm_original(Unitary= u_op,\n",
    "                                     num_qubits_register= 4)\n",
    "\n",
    "\n",
    "hhl_circuit.draw('mpl')"
   ]
  }
 ],
 "metadata": {
  "kernelspec": {
   "display_name": "Python 3 [Default]",
   "language": "python",
   "name": "python3"
  },
  "language_info": {
   "codemirror_mode": {
    "name": "ipython",
    "version": 3
   },
   "file_extension": ".py",
   "mimetype": "text/x-python",
   "name": "python",
   "nbconvert_exporter": "python",
   "pygments_lexer": "ipython3",
   "version": "3.11.9"
  }
 },
 "nbformat": 4,
 "nbformat_minor": 5
}
