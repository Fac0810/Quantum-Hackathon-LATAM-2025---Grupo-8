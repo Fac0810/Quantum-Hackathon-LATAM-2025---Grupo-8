{
 "cells": [
  {
   "cell_type": "code",
   "execution_count": 1,
   "id": "948911ba-068d-4545-b9f8-9d3259bcfa90",
   "metadata": {},
   "outputs": [
    {
     "name": "stdout",
     "output_type": "stream",
     "text": [
      "Requirement already satisfied: pip in /opt/conda/lib/python3.11/site-packages (25.2)\n",
      "Requirement already satisfied: qiskit in /opt/conda/lib/python3.11/site-packages (2.2.1)\n",
      "Requirement already satisfied: rustworkx>=0.15.0 in /opt/conda/lib/python3.11/site-packages (from qiskit) (0.17.1)\n",
      "Requirement already satisfied: numpy<3,>=1.17 in /opt/conda/lib/python3.11/site-packages (from qiskit) (2.3.3)\n",
      "Requirement already satisfied: scipy>=1.5 in /opt/conda/lib/python3.11/site-packages (from qiskit) (1.16.2)\n",
      "Requirement already satisfied: dill>=0.3 in /opt/conda/lib/python3.11/site-packages (from qiskit) (0.4.0)\n",
      "Requirement already satisfied: stevedore>=3.0.0 in /opt/conda/lib/python3.11/site-packages (from qiskit) (5.5.0)\n",
      "Requirement already satisfied: typing-extensions in /opt/conda/lib/python3.11/site-packages (from qiskit) (4.14.0)\n",
      "Requirement already satisfied: qutip in /opt/conda/lib/python3.11/site-packages (5.2.1)\n",
      "Requirement already satisfied: numpy>=1.22 in /opt/conda/lib/python3.11/site-packages (from qutip) (2.3.3)\n",
      "Requirement already satisfied: scipy!=1.16.0,>=1.9 in /opt/conda/lib/python3.11/site-packages (from qutip) (1.16.2)\n",
      "Requirement already satisfied: packaging in /opt/conda/lib/python3.11/site-packages (from qutip) (24.0)\n",
      "Requirement already satisfied: pylatexenc in /opt/conda/lib/python3.11/site-packages (2.10)\n",
      "Requirement already satisfied: cirq in /opt/conda/lib/python3.11/site-packages (1.6.1)\n",
      "Requirement already satisfied: cirq-aqt==1.6.1 in /opt/conda/lib/python3.11/site-packages (from cirq) (1.6.1)\n",
      "Requirement already satisfied: cirq-core==1.6.1 in /opt/conda/lib/python3.11/site-packages (from cirq) (1.6.1)\n",
      "Requirement already satisfied: cirq-google==1.6.1 in /opt/conda/lib/python3.11/site-packages (from cirq) (1.6.1)\n",
      "Requirement already satisfied: cirq-ionq==1.6.1 in /opt/conda/lib/python3.11/site-packages (from cirq) (1.6.1)\n",
      "Requirement already satisfied: cirq-pasqal==1.6.1 in /opt/conda/lib/python3.11/site-packages (from cirq) (1.6.1)\n",
      "Requirement already satisfied: cirq-web==1.6.1 in /opt/conda/lib/python3.11/site-packages (from cirq) (1.6.1)\n",
      "Requirement already satisfied: requests~=2.32 in /opt/conda/lib/python3.11/site-packages (from cirq-aqt==1.6.1->cirq) (2.32.5)\n",
      "Requirement already satisfied: attrs>=21.3.0 in /opt/conda/lib/python3.11/site-packages (from cirq-core==1.6.1->cirq) (23.2.0)\n",
      "Requirement already satisfied: duet>=0.2.8 in /opt/conda/lib/python3.11/site-packages (from cirq-core==1.6.1->cirq) (0.2.9)\n",
      "Requirement already satisfied: matplotlib~=3.8 in /opt/conda/lib/python3.11/site-packages (from cirq-core==1.6.1->cirq) (3.10.6)\n",
      "Requirement already satisfied: networkx~=3.4 in /opt/conda/lib/python3.11/site-packages (from cirq-core==1.6.1->cirq) (3.5)\n",
      "Requirement already satisfied: numpy>=1.26 in /opt/conda/lib/python3.11/site-packages (from cirq-core==1.6.1->cirq) (2.3.3)\n",
      "Requirement already satisfied: pandas~=2.1 in /opt/conda/lib/python3.11/site-packages (from cirq-core==1.6.1->cirq) (2.3.2)\n",
      "Requirement already satisfied: sortedcontainers~=2.0 in /opt/conda/lib/python3.11/site-packages (from cirq-core==1.6.1->cirq) (2.4.0)\n",
      "Requirement already satisfied: scipy~=1.12 in /opt/conda/lib/python3.11/site-packages (from cirq-core==1.6.1->cirq) (1.16.2)\n",
      "Requirement already satisfied: sympy in /opt/conda/lib/python3.11/site-packages (from cirq-core==1.6.1->cirq) (1.14.0)\n",
      "Requirement already satisfied: typing_extensions>=4.2 in /opt/conda/lib/python3.11/site-packages (from cirq-core==1.6.1->cirq) (4.14.0)\n",
      "Requirement already satisfied: tqdm>=4.12 in /opt/conda/lib/python3.11/site-packages (from cirq-core==1.6.1->cirq) (4.66.4)\n",
      "Requirement already satisfied: google-api-core~=2.22 in /opt/conda/lib/python3.11/site-packages (from google-api-core[grpc]~=2.22->cirq-google==1.6.1->cirq) (2.25.2)\n",
      "Requirement already satisfied: proto-plus~=1.25 in /opt/conda/lib/python3.11/site-packages (from cirq-google==1.6.1->cirq) (1.26.1)\n",
      "Requirement already satisfied: protobuf<6.0dev,>=5.26.1 in /opt/conda/lib/python3.11/site-packages (from cirq-google==1.6.1->cirq) (5.29.5)\n",
      "Requirement already satisfied: typedunits in /opt/conda/lib/python3.11/site-packages (from cirq-google==1.6.1->cirq) (0.0.1)\n",
      "Requirement already satisfied: googleapis-common-protos<2.0.0,>=1.56.2 in /opt/conda/lib/python3.11/site-packages (from google-api-core~=2.22->google-api-core[grpc]~=2.22->cirq-google==1.6.1->cirq) (1.70.0)\n",
      "Requirement already satisfied: google-auth<3.0.0,>=2.14.1 in /opt/conda/lib/python3.11/site-packages (from google-api-core~=2.22->google-api-core[grpc]~=2.22->cirq-google==1.6.1->cirq) (2.41.1)\n",
      "Requirement already satisfied: grpcio<2.0.0,>=1.33.2 in /opt/conda/lib/python3.11/site-packages (from google-api-core[grpc]~=2.22->cirq-google==1.6.1->cirq) (1.75.1)\n",
      "Requirement already satisfied: grpcio-status<2.0.0,>=1.33.2 in /opt/conda/lib/python3.11/site-packages (from google-api-core[grpc]~=2.22->cirq-google==1.6.1->cirq) (1.71.2)\n",
      "Requirement already satisfied: cachetools<7.0,>=2.0.0 in /opt/conda/lib/python3.11/site-packages (from google-auth<3.0.0,>=2.14.1->google-api-core~=2.22->google-api-core[grpc]~=2.22->cirq-google==1.6.1->cirq) (6.2.0)\n",
      "Requirement already satisfied: pyasn1-modules>=0.2.1 in /opt/conda/lib/python3.11/site-packages (from google-auth<3.0.0,>=2.14.1->google-api-core~=2.22->google-api-core[grpc]~=2.22->cirq-google==1.6.1->cirq) (0.4.2)\n",
      "Requirement already satisfied: rsa<5,>=3.1.4 in /opt/conda/lib/python3.11/site-packages (from google-auth<3.0.0,>=2.14.1->google-api-core~=2.22->google-api-core[grpc]~=2.22->cirq-google==1.6.1->cirq) (4.7.2)\n",
      "Requirement already satisfied: contourpy>=1.0.1 in /opt/conda/lib/python3.11/site-packages (from matplotlib~=3.8->cirq-core==1.6.1->cirq) (1.3.3)\n",
      "Requirement already satisfied: cycler>=0.10 in /opt/conda/lib/python3.11/site-packages (from matplotlib~=3.8->cirq-core==1.6.1->cirq) (0.12.1)\n",
      "Requirement already satisfied: fonttools>=4.22.0 in /opt/conda/lib/python3.11/site-packages (from matplotlib~=3.8->cirq-core==1.6.1->cirq) (4.59.2)\n",
      "Requirement already satisfied: kiwisolver>=1.3.1 in /opt/conda/lib/python3.11/site-packages (from matplotlib~=3.8->cirq-core==1.6.1->cirq) (1.4.9)\n",
      "Requirement already satisfied: packaging>=20.0 in /opt/conda/lib/python3.11/site-packages (from matplotlib~=3.8->cirq-core==1.6.1->cirq) (24.0)\n",
      "Requirement already satisfied: pillow>=8 in /opt/conda/lib/python3.11/site-packages (from matplotlib~=3.8->cirq-core==1.6.1->cirq) (11.3.0)\n",
      "Requirement already satisfied: pyparsing>=2.3.1 in /opt/conda/lib/python3.11/site-packages (from matplotlib~=3.8->cirq-core==1.6.1->cirq) (3.2.3)\n",
      "Requirement already satisfied: python-dateutil>=2.7 in /opt/conda/lib/python3.11/site-packages (from matplotlib~=3.8->cirq-core==1.6.1->cirq) (2.9.0)\n",
      "Requirement already satisfied: pytz>=2020.1 in /opt/conda/lib/python3.11/site-packages (from pandas~=2.1->cirq-core==1.6.1->cirq) (2024.1)\n",
      "Requirement already satisfied: tzdata>=2022.7 in /opt/conda/lib/python3.11/site-packages (from pandas~=2.1->cirq-core==1.6.1->cirq) (2025.2)\n",
      "Requirement already satisfied: charset_normalizer<4,>=2 in /opt/conda/lib/python3.11/site-packages (from requests~=2.32->cirq-aqt==1.6.1->cirq) (3.3.2)\n",
      "Requirement already satisfied: idna<4,>=2.5 in /opt/conda/lib/python3.11/site-packages (from requests~=2.32->cirq-aqt==1.6.1->cirq) (3.7)\n",
      "Requirement already satisfied: urllib3<3,>=1.21.1 in /opt/conda/lib/python3.11/site-packages (from requests~=2.32->cirq-aqt==1.6.1->cirq) (2.2.1)\n",
      "Requirement already satisfied: certifi>=2017.4.17 in /opt/conda/lib/python3.11/site-packages (from requests~=2.32->cirq-aqt==1.6.1->cirq) (2024.2.2)\n",
      "Requirement already satisfied: pyasn1>=0.1.3 in /opt/conda/lib/python3.11/site-packages (from rsa<5,>=3.1.4->google-auth<3.0.0,>=2.14.1->google-api-core~=2.22->google-api-core[grpc]~=2.22->cirq-google==1.6.1->cirq) (0.6.1)\n",
      "Requirement already satisfied: six>=1.5 in /opt/conda/lib/python3.11/site-packages (from python-dateutil>=2.7->matplotlib~=3.8->cirq-core==1.6.1->cirq) (1.16.0)\n",
      "Requirement already satisfied: mpmath<1.4,>=1.1.0 in /opt/conda/lib/python3.11/site-packages (from sympy->cirq-core==1.6.1->cirq) (1.3.0)\n",
      "Requirement already satisfied: cython>=3.0.0 in /opt/conda/lib/python3.11/site-packages (from typedunits->cirq-google==1.6.1->cirq) (3.1.4)\n",
      "Requirement already satisfied: qbraid in /opt/conda/lib/python3.11/site-packages (0.9.10)\n",
      "Requirement already satisfied: rustworkx>=0.15.0 in /opt/conda/lib/python3.11/site-packages (from qbraid) (0.17.1)\n",
      "Requirement already satisfied: numpy>=1.17 in /opt/conda/lib/python3.11/site-packages (from qbraid) (2.3.3)\n",
      "Requirement already satisfied: openqasm3>=0.4.0 in /opt/conda/lib/python3.11/site-packages (from openqasm3[parser]>=0.4.0->qbraid) (1.0.1)\n",
      "Requirement already satisfied: qbraid-core>=0.1.39 in /opt/conda/lib/python3.11/site-packages (from qbraid) (0.1.41)\n",
      "Requirement already satisfied: pydantic<=2.11.1,>2.0.0 in /opt/conda/lib/python3.11/site-packages (from qbraid) (2.11.1)\n",
      "Requirement already satisfied: pydantic-core in /opt/conda/lib/python3.11/site-packages (from qbraid) (2.33.0)\n",
      "Requirement already satisfied: typing-extensions>=4.0.0 in /opt/conda/lib/python3.11/site-packages (from qbraid) (4.14.0)\n",
      "Requirement already satisfied: pyqasm<0.6.0,>=0.5.0 in /opt/conda/lib/python3.11/site-packages (from qbraid) (0.5.0)\n",
      "Requirement already satisfied: annotated-types>=0.6.0 in /opt/conda/lib/python3.11/site-packages (from pydantic<=2.11.1,>2.0.0->qbraid) (0.7.0)\n",
      "Requirement already satisfied: typing-inspection>=0.4.0 in /opt/conda/lib/python3.11/site-packages (from pydantic<=2.11.1,>2.0.0->qbraid) (0.4.1)\n",
      "Requirement already satisfied: antlr4_python3_runtime<4.14,>=4.7 in /opt/conda/lib/python3.11/site-packages (from openqasm3[parser]>=0.4.0->qbraid) (4.13.2)\n",
      "Requirement already satisfied: requests in /opt/conda/lib/python3.11/site-packages (from qbraid-core>=0.1.39->qbraid) (2.32.5)\n",
      "Requirement already satisfied: urllib3 in /opt/conda/lib/python3.11/site-packages (from qbraid-core>=0.1.39->qbraid) (2.2.1)\n",
      "Requirement already satisfied: packaging in /opt/conda/lib/python3.11/site-packages (from qbraid-core>=0.1.39->qbraid) (24.0)\n",
      "Requirement already satisfied: charset_normalizer<4,>=2 in /opt/conda/lib/python3.11/site-packages (from requests->qbraid-core>=0.1.39->qbraid) (3.3.2)\n",
      "Requirement already satisfied: idna<4,>=2.5 in /opt/conda/lib/python3.11/site-packages (from requests->qbraid-core>=0.1.39->qbraid) (3.7)\n",
      "Requirement already satisfied: certifi>=2017.4.17 in /opt/conda/lib/python3.11/site-packages (from requests->qbraid-core>=0.1.39->qbraid) (2024.2.2)\n",
      "Requirement already satisfied: qbraid_qir in /opt/conda/lib/python3.11/site-packages (0.4.0)\n",
      "Requirement already satisfied: pyqir<0.11.0,>=0.10.0 in /opt/conda/lib/python3.11/site-packages (from qbraid_qir) (0.10.9)\n",
      "Requirement already satisfied: ply in /opt/conda/lib/python3.11/site-packages (3.11)\n"
     ]
    }
   ],
   "source": [
    "!pip install --upgrade pip\n",
    "!pip install qiskit\n",
    "!pip install qutip\n",
    "!pip install pylatexenc\n",
    "!pip install cirq\n",
    "!pip install qbraid\n",
    "!pip install qbraid_qir\n",
    "!pip install ply\n",
    "\n",
    "!git config --global pull.rebase false\n"
   ]
  },
  {
   "cell_type": "code",
   "execution_count": 40,
   "id": "d10adfb8-4d4b-4af2-9f0d-1f46d0c8f3ff",
   "metadata": {},
   "outputs": [],
   "source": [
    "import math\n",
    "from math import asin\n",
    "\n",
    "import numpy as np\n",
    "import pandas as pd\n",
    "\n",
    "import cirq\n",
    "\n",
    "import qiskit\n",
    "from qiskit import QuantumRegister, ClassicalRegister, QuantumCircuit\n",
    "from qiskit.circuit.library import PhaseEstimation, UnitaryGate, HamiltonianGate\n",
    "from qiskit.quantum_info import Operator, Statevector\n",
    "\n",
    "from qutip import rand_unitary\n",
    "\n",
    "from qbraid import QbraidProvider, ConversionGraph, QPROGRAM_REGISTRY, transpile\n",
    "from qbraid_qir.cirq import cirq_to_qir\n",
    "\n",
    "from typing import List, Tuple, Any"
   ]
  },
  {
   "cell_type": "markdown",
   "id": "2a88009f-75d1-4985-ad74-9a751a80d408",
   "metadata": {},
   "source": [
    "Let's first get B' and B''"
   ]
  },
  {
   "cell_type": "code",
   "execution_count": 3,
   "id": "3d1babab-3a03-45e7-964e-0ccf8a4bc6c1",
   "metadata": {},
   "outputs": [
    {
     "name": "stdout",
     "output_type": "stream",
     "text": [
      "376.99111843077515\n"
     ]
    }
   ],
   "source": [
    "frequency = 60 # Example of value\n",
    "\n",
    "def radian_frequency(frequency):\n",
    "    radian_frequency =  2*math.pi*frequency\n",
    "    return radian_frequency\n",
    "print(radian_frequency(60))"
   ]
  },
  {
   "cell_type": "code",
   "execution_count": 4,
   "id": "f4abd885-0dd0-414e-8084-759f2dc8cc4c",
   "metadata": {},
   "outputs": [
    {
     "name": "stdout",
     "output_type": "stream",
     "text": [
      "[(0.02+0.04j), (0.01+0.03j), (0.0125+0.0215j)]\n"
     ]
    }
   ],
   "source": [
    "L_1_2  = 0.04/radian_frequency(60)\n",
    "L_1_3 = 0.03/radian_frequency(60)\n",
    "L_2_3 = 0.0215/radian_frequency(60)\n",
    "\n",
    "R_1_2 = 0.02\n",
    "R_1_3 = 0.01\n",
    "R_2_3 = 0.0125\n",
    "\n",
    "zetha = []\n",
    "\n",
    "for L, R in zip([L_1_2, L_1_3, L_2_3], [R_1_2, R_1_3, R_2_3]):\n",
    "    zetha.append(R + 1j*radian_frequency(60)* L)\n",
    "\n",
    "\n",
    "print(zetha)"
   ]
  },
  {
   "cell_type": "code",
   "execution_count": 5,
   "id": "593c66b2-f2eb-4d4c-8b8c-4276cf787f08",
   "metadata": {},
   "outputs": [
    {
     "name": "stdout",
     "output_type": "stream",
     "text": [
      "[25.0, 33.333333333333336, 46.51162790697675]\n"
     ]
    }
   ],
   "source": [
    "y_vector =  []\n",
    "\n",
    "for i in range(len(zetha)):\n",
    "  y_vector.append(1/np.imag(zetha[i]))\n",
    "\n",
    "\n",
    "print(y_vector)"
   ]
  },
  {
   "cell_type": "code",
   "execution_count": 6,
   "id": "caf56b12-b9fd-443a-b3b4-2ba72b167114",
   "metadata": {},
   "outputs": [],
   "source": [
    "def calculate_y_bus(R, L, C, n, m):\n",
    "  y_bus_set = set()"
   ]
  },
  {
   "cell_type": "code",
   "execution_count": 7,
   "id": "9efb80bc-4333-4671-9bd4-219a5c3addba",
   "metadata": {},
   "outputs": [],
   "source": [
    "def build_admittance_matrices(R, L, C, X_i, X_j, i, j, f, aprox = True, mode=1):\n",
    "    \"\"\"\n",
    "    Construye Ybus, B, Bprime (B′) y Bdoubleprime (B″) a partir de una lista de items:\n",
    "      ('R', i, j, R_ij)           # oh\n",
    "    Parámetros:\n",
    "      f: frecuencia en Hz\n",
    "      n_buses: si None, se infiere del máx índice observado\n",
    "      one_based: True si los índices vienen 1..N, False si 0..N-1\n",
    "    Retorna:\n",
    "      dict con 'Ybus', 'B', 'Bprime', 'Bdoubleprime'\n",
    "    \"\"\"\n",
    "    #n = len(R)\n",
    "    n = max(max(i),max(j))\n",
    "\n",
    "    w = 2*np.pi*f\n",
    "    if mode == 1:\n",
    "      X = [L[i] * w for i in range(len(L))]\n",
    "    elif mode == 2:\n",
    "      X = L\n",
    "    if aprox:\n",
    "        Y = [1/(1j*X[i]) for i in range(len(X))]\n",
    "    else:\n",
    "        Y = [1/(1j*w*X[i]+R[i]) for i in range(len(R))]\n",
    "    Y_matrix = np.array([[0j for _ in range(n)] for _ in range(n)])\n",
    "    print(Y_matrix)\n",
    "    counter = 0\n",
    "    for i_index,j_index in zip(i,j):\n",
    "        print(i_index, j_index)\n",
    "        Y_matrix[i_index-1][j_index-1] = -Y[counter]\n",
    "        Y_matrix[j_index-1][i_index-1] = -Y[counter]\n",
    "        counter += 1\n",
    "    for i_index in range(len(Y_matrix)):\n",
    "      for j_index in range(len(Y_matrix)):\n",
    "          if j_index != i_index:\n",
    "            Y_matrix[i_index][i_index] -= Y_matrix[i_index][j_index]\n",
    "    return Y_matrix"
   ]
  },
  {
   "cell_type": "code",
   "execution_count": 122,
   "id": "adabbf72-96fb-4db6-a924-fe2f8b0c1912",
   "metadata": {},
   "outputs": [
    {
     "name": "stdout",
     "output_type": "stream",
     "text": [
      "[[0.+0.j 0.+0.j 0.+0.j 0.+0.j 0.+0.j]\n",
      " [0.+0.j 0.+0.j 0.+0.j 0.+0.j 0.+0.j]\n",
      " [0.+0.j 0.+0.j 0.+0.j 0.+0.j 0.+0.j]\n",
      " [0.+0.j 0.+0.j 0.+0.j 0.+0.j 0.+0.j]\n",
      " [0.+0.j 0.+0.j 0.+0.j 0.+0.j 0.+0.j]]\n",
      "1 2\n",
      "1 3\n",
      "1 3\n",
      "2 4\n",
      "2 5\n",
      "2 4\n",
      "3 5\n"
     ]
    },
    {
     "data": {
      "text/plain": [
       "array([[ 0.-20.66666667j, -0.+16.66666667j, -0. +4.j        ,\n",
       "         0. +0.j        ,  0. +0.j        ],\n",
       "       [-0.+16.66666667j,  0.-58.33333333j,  0. +0.j        ,\n",
       "        -0.+33.33333333j, -0. +8.33333333j],\n",
       "       [-0. +4.j        ,  0. +0.j        ,  0. -8.16666667j,\n",
       "         0. +0.j        , -0. +4.16666667j],\n",
       "       [ 0. +0.j        , -0.+33.33333333j,  0. +0.j        ,\n",
       "         0.-33.33333333j,  0. +0.j        ],\n",
       "       [ 0. +0.j        , -0. +8.33333333j, -0. +4.16666667j,\n",
       "         0. +0.j        ,  0.-12.5j       ]])"
      ]
     },
     "execution_count": 122,
     "metadata": {},
     "output_type": "execute_result"
    }
   ],
   "source": [
    "R = np.array([0.02,0.08,0.06,0.06, 0.04, 0.01, 0.08])\n",
    "L = np.array([0.06, 0.24, 0.25, 0.18, 0.12, 0.03, 0.24])\n",
    "\n",
    "Y = build_admittance_matrices(R, L, 0,0,0, np.array([1,1,1,2,2,2,3,4]), np.array([2,3,3,4,5,4,5]), 60, mode=2)\n",
    "Y"
   ]
  },
  {
   "cell_type": "code",
   "execution_count": 123,
   "id": "51a0ae49-2628-4aa7-ad84-57bafa38cddc",
   "metadata": {},
   "outputs": [],
   "source": [
    "node_type = {'S': 1,  'L': [3,4,5,6] , 'G': [2]}"
   ]
  },
  {
   "cell_type": "code",
   "execution_count": 124,
   "id": "ac5e19ee-625e-4e72-9921-6d63cf63b54e",
   "metadata": {},
   "outputs": [
    {
     "name": "stdout",
     "output_type": "stream",
     "text": [
      "B_prime unitária:\n",
      "[[-0.86164044  0.048277   -0.4246153   0.27376438  0.        ]\n",
      " [ 0.         -0.89215894  0.1687267   0.41902711  0.        ]\n",
      " [ 0.49236596 -0.02758686 -0.82575286  0.27376438  0.        ]\n",
      " [ 0.12309149  0.44828642  0.33070434  0.82129313  0.        ]\n",
      " [ 0.          0.          0.         -0.          1.        ]]\n",
      "\n",
      "B_prime_prime unitária:\n",
      "[[-0.89076187  0.          0.45447034  0.        ]\n",
      " [ 0.          1.          0.          0.        ]\n",
      " [ 0.45447034  0.          0.89076187  0.        ]\n",
      " [ 0.         -0.         -0.          1.        ]]\n",
      "\n",
      "Verificação B_prime unitária:\n",
      "True\n",
      "\n",
      "Verificação B_prime_prime unitária:\n",
      "True\n",
      "b_prima [[-58.33333333   0.          33.33333333   8.33333333   0.        ]\n",
      " [  0.          -8.16666667   0.           4.16666667   0.        ]\n",
      " [ 33.33333333   0.         -33.33333333   0.           0.        ]\n",
      " [  8.33333333   4.16666667   0.         -12.5          0.        ]\n",
      " [  0.           0.           0.           0.           0.        ]]\n",
      "b_prima_prima [[ -8.16666667   0.           4.16666667   0.        ]\n",
      " [  0.         -33.33333333   0.           0.        ]\n",
      " [  4.16666667   0.         -12.5          0.        ]\n",
      " [  0.           0.           0.           0.        ]]\n"
     ]
    }
   ],
   "source": [
    "length_L = len(node_type['L'])\n",
    "length_G = len(node_type['G'])\n",
    "\n",
    "def boolean_b_prime(node_type, i):\n",
    "  if (i in node_type['L'] or i in node_type['G']) and i != node_type['S']:\n",
    "    return True\n",
    "  else:\n",
    "    return False\n",
    "\n",
    "def boolean_b_prime_prime(node_type, i):\n",
    "  if (i in node_type['L']) and i != node_type['S']:\n",
    "    return True\n",
    "  else:\n",
    "    return False\n",
    "\n",
    "lengh_b_prime = length_L + length_G\n",
    "\n",
    "B = Y.imag\n",
    "B_prime = np.zeros((lengh_b_prime, lengh_b_prime))\n",
    "\n",
    "prime_indices = [i-1 for i in range(1, len(B)+1) if boolean_b_prime(node_type, i)]\n",
    "\n",
    "for ii, i_index in enumerate(prime_indices):\n",
    "  for jj, j_index in enumerate(prime_indices):\n",
    "    B_prime[ii][jj] = B[i_index][j_index]\n",
    "\n",
    "B_prime_prime = np.zeros((length_L, length_L))\n",
    "\n",
    "prime_prime_indices = [i-1 for i in range(1, len(B)+1) if boolean_b_prime_prime(node_type, i)]\n",
    "\n",
    "for ii, i_index in enumerate(prime_prime_indices):\n",
    "  for jj, j_index in enumerate(prime_prime_indices):\n",
    "    B_prime_prime[ii][jj] = B[i_index][j_index]\n",
    "\n",
    "# Substitua a função de normalização por:\n",
    "def make_unitary_matrix(matrix):\n",
    "    \"\"\"Torna uma matriz unitária usando decomposição QR\"\"\"\n",
    "    Q, R = np.linalg.qr(matrix)\n",
    "    return Q\n",
    "\n",
    "B_prime_unitary = make_unitary_matrix(B_prime)\n",
    "B_prime_prime_unitary = make_unitary_matrix(B_prime_prime)\n",
    "\n",
    "print(\"B_prime unitária:\")\n",
    "print(B_prime_unitary)\n",
    "print(\"\\nB_prime_prime unitária:\")\n",
    "print(B_prime_prime_unitary)\n",
    "\n",
    "# Verificar se são unitárias (U†U = I)\n",
    "print(\"\\nVerificação B_prime unitária:\")\n",
    "print(np.allclose(B_prime_unitary.conj().T @ B_prime_unitary, np.eye(len(B_prime_unitary)), atol=1e-10))\n",
    "\n",
    "print(\"\\nVerificação B_prime_prime unitária:\")\n",
    "print(np.allclose(B_prime_prime_unitary.conj().T @ B_prime_prime_unitary, np.eye(len(B_prime_prime_unitary)), atol=1e-10))\n",
    "print('b_prima',B_prime)\n",
    "print('b_prima_prima',B_prime_prime)"
   ]
  },
  {
   "cell_type": "code",
   "execution_count": 125,
   "id": "76b28bdb-8384-4359-a140-5f51196c288f",
   "metadata": {},
   "outputs": [
    {
     "name": "stdout",
     "output_type": "stream",
     "text": [
      "P calculada: [-13.37147899   3.48337756   1.23829737   4.411725     4.23807906]\n",
      "Q calculada: [19.23269366 16.7983611  10.20581764  0.2932396  10.03264548]\n",
      "ΔP: [ 13.37147899  16.51662244 -46.23829737 -44.411725   -64.23807906]\n",
      "ΔQ: [-19.23269366 -16.7983611  -10.20581764  -0.2932396  -10.03264548]\n"
     ]
    }
   ],
   "source": [
    "def power_flow_mismatch(Ybus, V, theta, P_spec, Q_spec):\n",
    "    \"\"\"\n",
    "    Calcula ΔP y ΔQ en un sistema de potencia.\n",
    "\n",
    "    Parámetros:\n",
    "        Ybus   : matriz admitancia nodal (np.array complex, nxn)\n",
    "        V      : vector de magnitudes de tensión [pu] (1D, n)\n",
    "        theta  : vector de ángulos [rad] (1D, n)\n",
    "        P_spec : vector P especificada (gen - carga) [pu] (1D, n)\n",
    "        Q_spec : vector Q especificada (gen - carga) [pu] (1D, n)\n",
    "\n",
    "    Retorna:\n",
    "        dP, dQ : vectores de desbalance ΔP, ΔQ\n",
    "        P_calc, Q_calc : potencias calculadas\n",
    "    \"\"\"\n",
    "    n = len(V)\n",
    "    P_calc = np.zeros(n)\n",
    "    Q_calc = np.zeros(n)\n",
    "\n",
    "    for i in range(n):\n",
    "        for j in range(n):\n",
    "            G, B = Ybus[i, j].real, Ybus[i, j].imag\n",
    "            angle = theta[i] - theta[j]\n",
    "            P_calc[i] += V[i] * V[j] * (G*np.cos(angle) + B*np.sin(angle))\n",
    "            Q_calc[i] += V[i] * V[j] * (G*np.sin(angle) - B*np.cos(angle))\n",
    "\n",
    "    dP = P_spec - P_calc\n",
    "    dQ = Q_spec - Q_calc\n",
    "    return dP, dQ, P_calc, Q_calc\n",
    "\n",
    "\n",
    "V = np.array([1.06, 1.0, 1.0, 1.0, 1.0])\n",
    "P_spec = np.array([0, 20, -45, -40, -60])\n",
    "Q_spec = np.array([0, 0, 0, 0, 0])\n",
    "theta = np.array([0,30-10,-15,-5,-10])\n",
    "\n",
    "\n",
    "\n",
    "\n",
    "\n",
    "# Calcular mismatches\n",
    "dP, dQ, P_calc, Q_calc = power_flow_mismatch(Y, V, theta, P_spec, Q_spec)\n",
    "\n",
    "print(\"P calculada:\", P_calc)\n",
    "print(\"Q calculada:\", Q_calc)\n",
    "print(\"ΔP:\", dP)\n",
    "print(\"ΔQ:\", dQ)\n",
    "\n"
   ]
  },
  {
   "cell_type": "code",
   "execution_count": 126,
   "id": "e763137e-2cb7-4b07-80b8-2a15705b1112",
   "metadata": {},
   "outputs": [],
   "source": [
    "import numpy as np\n",
    "\n",
    "def next_power_of_two(n):\n",
    "    return 1 if n == 0 else 2**((n-1).bit_length())\n",
    "\n",
    "def to_twos_complement_bits(x, n_bits=8, frac=2):\n",
    "    scale = 1 << frac\n",
    "    val = int(np.round(x * scale))\n",
    "    mod = 1 << n_bits\n",
    "    if val < 0:\n",
    "        val = (val + mod) % mod\n",
    "    bits = format(val, f'0{n_bits}b')\n",
    "    return [int(b) for b in bits]\n",
    "\n",
    "def matrix_to_statevector(mat, n_bits=8, frac=2):\n",
    "    \"\"\"\n",
    "    Convert each row of a matrix to a Statevector-compatible 1D vector.\n",
    "    Pads the vector to next power of 2.\n",
    "    \"\"\"\n",
    "    rows, cols = mat.shape\n",
    "    sv_list = []\n",
    "\n",
    "    for i in range(rows):\n",
    "        row_bits = []\n",
    "        for j in range(cols):\n",
    "            row_bits.extend(to_twos_complement_bits(mat[i, j], n_bits, frac))\n",
    "        \n",
    "        # Pad to next power of 2\n",
    "        target_len = next_power_of_two(len(row_bits))\n",
    "        if len(row_bits) < target_len:\n",
    "            row_bits = [0]*(target_len - len(row_bits)) + row_bits\n",
    "        \n",
    "        # Convert bits to computational basis vector\n",
    "        # Only works if the bits represent a single basis state\n",
    "        index = int(\"\".join(map(str, row_bits)), 2)\n",
    "        vec = np.zeros(target_len)\n",
    "        vec[index] = 1.0\n",
    "        sv_list.append(vec)\n",
    "\n",
    "    return sv_list\n"
   ]
  },
  {
   "cell_type": "code",
   "execution_count": 127,
   "id": "387e4d62-1665-40e5-ab9f-7bfe407b5213",
   "metadata": {},
   "outputs": [
    {
     "name": "stdout",
     "output_type": "stream",
     "text": [
      "Matriz en binario (Q7.8, 16 bits):\n",
      "40\n"
     ]
    }
   ],
   "source": [
    "deltas = np.array([dP, dQ])\n",
    "    \n",
    "deltas_bin = np.array(matrix_to_binary(deltas,8,2))\n",
    "print(\"Matriz en binario (Q7.8, 16 bits):\")\n",
    "print(len(deltas_bin[0].flatten()))\n",
    "\n"
   ]
  },
  {
   "cell_type": "code",
   "execution_count": 37,
   "id": "a413107a-98c0-45b4-8092-89ccf5b81c29",
   "metadata": {},
   "outputs": [
    {
     "name": "stdout",
     "output_type": "stream",
     "text": [
      "Matriz original:\n",
      " [[ 11.84311641  21.4910771  -49.90914493 -44.00850547 -64.41654311]\n",
      " [-14.27980823 -18.35906761 -20.00256154  -5.37540683 -16.62918515]]\n",
      "\n",
      "Matriz en binario:\n",
      " [['00101111' '01010110' '00111000' '01010000' '11111110']\n",
      " ['11000111' '10110111' '10110000' '11101010' '10111101']]\n",
      "\n",
      "Matriz recuperada (después de binario):\n",
      " [[ 11.75  21.5   14.    20.    -0.5 ]\n",
      " [-14.25 -18.25 -20.    -5.5  -16.75]]\n",
      "\n",
      "Error de cuantización:\n",
      " [[-9.31164097e-02  8.92290292e-03  6.39091449e+01  6.40085055e+01\n",
      "   6.39165431e+01]\n",
      " [ 2.98082255e-02  1.09067608e-01  2.56153549e-03 -1.24593165e-01\n",
      "  -1.20814845e-01]]\n"
     ]
    }
   ],
   "source": [
    "def int_to_twos_complement(x, n_bits=16, frac=4):\n",
    "    \"\"\"\n",
    "    Convierte número real x a string binario complemento a dos.\n",
    "    n_bits = total de bits, frac = bits fraccionarios\n",
    "    \"\"\"\n",
    "    val = int(round(x * (1 << frac)))\n",
    "    mod = 1 << n_bits\n",
    "    if val < 0:\n",
    "        val = (val + mod) % mod\n",
    "    return format(val, f'0{n_bits}b')\n",
    "\n",
    "def twos_complement_to_real(bin_str, frac=4):\n",
    "    \"\"\"\n",
    "    Convierte string binario complemento a dos a real (punto fijo).\n",
    "    \"\"\"\n",
    "    n_bits = len(bin_str)\n",
    "    val = int(bin_str, 2)\n",
    "    if bin_str[0] == '1':\n",
    "        val -= (1 << n_bits)\n",
    "    return val / (1 << frac)\n",
    "\n",
    "def quantize_matrix(mat, n_bits=16, frac=4):\n",
    "    \"\"\"\n",
    "    Dada una matriz de reales:\n",
    "    - Devuelve matriz binaria (complemento a dos)\n",
    "    - Devuelve matriz reconstruida en real\n",
    "    - Devuelve matriz de error\n",
    "    \"\"\"\n",
    "    rows, cols = mat.shape\n",
    "    bin_mat = np.empty((rows, cols), dtype=object)\n",
    "    rec_mat = np.zeros((rows, cols))\n",
    "    err_mat = np.zeros((rows, cols))\n",
    "\n",
    "    for i in range(rows):\n",
    "        for j in range(cols):\n",
    "            b = int_to_twos_complement(mat[i, j], n_bits, frac)\n",
    "            r = twos_complement_to_real(b, frac)\n",
    "            bin_mat[i, j] = b\n",
    "            rec_mat[i, j] = r\n",
    "            err_mat[i, j] = r - mat[i, j]\n",
    "    return bin_mat, rec_mat, err_mat\n",
    "\n",
    "\n",
    "# ---------------- Ejemplo ----------------\n",
    "M = np.array([[10.0, 9.8],\n",
    "              [-65.0, -73.33]])\n",
    "\n",
    "bin_M, rec_M, err_M = quantize_matrix(deltas, n_bits=8, frac=2)  # Q8.4\n",
    "\n",
    "print(\"Matriz original:\\n\", deltas)\n",
    "print(\"\\nMatriz en binario:\\n\", bin_M)\n",
    "print(\"\\nMatriz recuperada (después de binario):\\n\", rec_M)\n",
    "print(\"\\nError de cuantización:\\n\", err_M)"
   ]
  },
  {
   "cell_type": "markdown",
   "id": "fe967a07-6039-4127-9241-4b743a67f51a",
   "metadata": {},
   "source": [
    "Ahora que ya tenemos B', B'' y los deltas, Vamos a crear el codigo a ejecutar"
   ]
  },
  {
   "cell_type": "code",
   "execution_count": 11,
   "id": "9baf157a-6b75-4903-904c-b81d9c41288a",
   "metadata": {},
   "outputs": [],
   "source": [
    "def reflected_gray(n: int) -> tuple:\n",
    "    \"\"\"Generate a reflected Gray code sequence of n bits starting at 1.\"\"\"\n",
    "    if n < 1:\n",
    "        return tuple()\n",
    "    \n",
    "    seq = [1]\n",
    "    for k in range(2, n + 1):\n",
    "        seq = seq + seq[:-1] + [k]\n",
    "    ret=seq+seq\n",
    "    return tuple(ret)"
   ]
  },
  {
   "cell_type": "code",
   "execution_count": 12,
   "id": "20eb9686-9f7e-45c2-8104-91accb9390f8",
   "metadata": {},
   "outputs": [],
   "source": [
    "def gray_code(n):\n",
    "    \"\"\"Generate n-bit Gray codes\"\"\"\n",
    "    return n ^ (n >> 1)\n",
    "\n",
    "def binary_vector(j, n):\n",
    "    \"\"\"Convert integer j to n-bit binary vector (LSB at end)\"\"\"\n",
    "    return [int(b) for b in format(j, f'0{n}b')]\n",
    "\n",
    "def theta_i(i, n_R):\n",
    "    total = 0\n",
    "    g_i_minus_1 = binary_vector(gray_code(i - 1), n_R)\n",
    "    for j in range(1, 2**n_R):\n",
    "        bin_j = binary_vector(j, n_R)\n",
    "        dot_product = sum([a * b for a, b in zip(bin_j, g_i_minus_1)]) % 2\n",
    "        sign = (-1) ** dot_product\n",
    "        total += sign * asin(1 / j)\n",
    "    return total / (2 ** n_R)\n"
   ]
  },
  {
   "cell_type": "code",
   "execution_count": 13,
   "id": "702e2368-cf32-43de-835e-0e9d1c16380e",
   "metadata": {},
   "outputs": [],
   "source": [
    "#getting theta y gray_sequence\n",
    "def obtain_theta(reg_num:int):\n",
    "    theta=[]\n",
    "    for i in range(1, 2**reg_num + 1):\n",
    "        theta.append(theta_i(i, reg_num))\n",
    "    return theta"
   ]
  },
  {
   "cell_type": "code",
   "execution_count": 14,
   "id": "fe8d4828-e4b0-4ac5-9c37-1cc2e34c71d6",
   "metadata": {},
   "outputs": [
    {
     "data": {
      "image/png": "[encoded data removed]",
      "text/plain": [
       "<Figure size 2228.58x953.167 with 1 Axes>"
      ]
     },
     "execution_count": 14,
     "metadata": {},
     "output_type": "execute_result"
    }
   ],
   "source": [
    "def AQE_opt(reg_num : int):\n",
    "\n",
    "    #generamos qc\n",
    "    qr_contr = QuantumRegister(reg_num)\n",
    "    qr_target = QuantumRegister(1)\n",
    "\n",
    "    qc = QuantumCircuit(qr_target,qr_contr)\n",
    "\n",
    "    # Define V\n",
    "    V_matrix = (1 / np.sqrt(2)) * np.array([\n",
    "        [1j, -1j],  \n",
    "        [1,   1]     \n",
    "    ])\n",
    "    \n",
    "    # Now compute the conjugate transpose for V†\n",
    "    V_dagger_matrix = V_matrix.conj().T\n",
    "    \n",
    "    # Create the unitary gates\n",
    "    V_dagger_gate = UnitaryGate(V_dagger_matrix, label=\"V†\")\n",
    "    \n",
    "    V_gate = UnitaryGate(V_matrix, label=\"V\")\n",
    "\n",
    "    #obtain aux variables\n",
    "    theta=obtain_theta(reg_num)\n",
    "    gray_sequence=reflected_gray(reg_num)\n",
    "\n",
    "    #create circuit\n",
    "    qc.append(V_dagger_gate, qr_target)\n",
    "    qc.h(qr_target)               \n",
    "    \n",
    "    for idx, i in enumerate(gray_sequence):\n",
    "        qc.rz(theta[idx], qr_target)   \n",
    "        qc.cz(qr_contr[i-1], qr_target)\n",
    "    \n",
    "    qc.h(qr_target)\n",
    "    qc.append(V_gate,[qr_target])\n",
    "\n",
    "    return qc\n",
    "\n",
    "example=AQE_opt(4)\n",
    "example.draw('mpl')\n",
    "\n"
   ]
  },
  {
   "cell_type": "code",
   "execution_count": 15,
   "id": "038cf084-a058-444d-9659-90b2644bd58d",
   "metadata": {},
   "outputs": [
    {
     "data": {
      "text/plain": [
       "'\\ndef HHL_algorithm_original(unitary : UnitaryGate,\\n                           num_qubits_register : int,\\n                           ):\\n\\n    # step 1) phase estimation primitive\\n    qpe_circuit = PhaseEstimation(num_evaluation_qubits= num_qubits_register,\\n                                  unitary= unitary)\\n    aqc_circuit = AQE_opt(num_qubits_register)\\n    \\n    # step 2) Ancilla Quantum Encoding:\\n    # revisar el Nielsen and Chuang si tiene dudas de esto:\\n    # paper adjunto tambien\\n    q_ancilla_reg, q_system_reg = qpe_circuit.qregs\\n    aqe_reg = QuantumRegister(1)\\n    cr = ClassicalRegister(1)\\n\\n    # incializamos el circuito cuántico del HHL:\\n    hhl_qc = QuantumCircuit(q_ancilla_reg, q_system_reg, aqe_reg, cr)\\n\\n    # le añadimos la parte del QPE:\\n    hhl_qc.compose(qpe_circuit, inplace=True)\\n\\n    hhl_qc.barrier()\\n\\n    # añadimos la parte del AQE:\\n\\n    aux_list = [q_anc for q_anc in q_ancilla_reg]\\n    qubit_list_aqe = [num_qubits_register+len(q_system_reg)] + list(range(num_qubits_register))\\n    \\n    hhl_qc.compose(aqc_circuit, aqe_reg[:] + q_ancilla_reg[:], inplace= True)\\n        \\n    hhl_qc.barrier()\\n\\n    \\n    # añadimos la inversa del QPE:\\n    hhl_qc.compose(qpe_circuit.inverse(), inplace=True)\\n\\n    hhl_qc.barrier()\\n    #medimos:\\n    hhl_qc.measure(aqe_reg, cr)\\n\\n    return hhl_qc\\n    '"
      ]
     },
     "execution_count": 15,
     "metadata": {},
     "output_type": "execute_result"
    }
   ],
   "source": [
    "#NO USAR\n",
    "'''\n",
    "def HHL_algorithm_original(unitary : UnitaryGate,\n",
    "                           num_qubits_register : int,\n",
    "                           ):\n",
    "\n",
    "    # step 1) phase estimation primitive\n",
    "    qpe_circuit = PhaseEstimation(num_evaluation_qubits= num_qubits_register,\n",
    "                                  unitary= unitary)\n",
    "    aqc_circuit = AQE_opt(num_qubits_register)\n",
    "    \n",
    "    # step 2) Ancilla Quantum Encoding:\n",
    "    # revisar el Nielsen and Chuang si tiene dudas de esto:\n",
    "    # paper adjunto tambien\n",
    "    q_ancilla_reg, q_system_reg = qpe_circuit.qregs\n",
    "    aqe_reg = QuantumRegister(1)\n",
    "    cr = ClassicalRegister(1)\n",
    "\n",
    "    # incializamos el circuito cuántico del HHL:\n",
    "    hhl_qc = QuantumCircuit(q_ancilla_reg, q_system_reg, aqe_reg, cr)\n",
    "\n",
    "    # le añadimos la parte del QPE:\n",
    "    hhl_qc.compose(qpe_circuit, inplace=True)\n",
    "\n",
    "    hhl_qc.barrier()\n",
    "\n",
    "    # añadimos la parte del AQE:\n",
    "\n",
    "    aux_list = [q_anc for q_anc in q_ancilla_reg]\n",
    "    qubit_list_aqe = [num_qubits_register+len(q_system_reg)] + list(range(num_qubits_register))\n",
    "    \n",
    "    hhl_qc.compose(aqc_circuit, aqe_reg[:] + q_ancilla_reg[:], inplace= True)\n",
    "        \n",
    "    hhl_qc.barrier()\n",
    "\n",
    "    \n",
    "    # añadimos la inversa del QPE:\n",
    "    hhl_qc.compose(qpe_circuit.inverse(), inplace=True)\n",
    "\n",
    "    hhl_qc.barrier()\n",
    "    #medimos:\n",
    "    hhl_qc.measure(aqe_reg, cr)\n",
    "\n",
    "    return hhl_qc\n",
    "    '''"
   ]
  },
  {
   "cell_type": "code",
   "execution_count": 32,
   "id": "11bf96c7-adaf-4818-aa08-7782e38e349e",
   "metadata": {},
   "outputs": [],
   "source": [
    "\n",
    "\n",
    "def HHL_algorithm_original( Herm_op : np.array,\n",
    "                            init_ket : np.array,\n",
    "                            num_qubits_register : int):\n",
    "    \n",
    "    \n",
    "    init_ket = init_ket.astype(float)\n",
    "    init_ket /= np.linalg.norm(init_ket)\n",
    "    init_ket_sv = Statevector(init_ket)\n",
    "\n",
    "\n",
    "    Herm_op /= np.linalg.norm(Herm_op) #normalization\n",
    "\n",
    "    Unitary = HamiltonianGate(Herm_op, time= 2 * np.pi) #exp^{-i 2 pi B''}\n",
    "    aqc_circuit = AQE_opt(num_qubits_register)\n",
    "\n",
    "    \n",
    "    # step 1) phase estimation primitive\n",
    "    qpe_circuit = PhaseEstimation(num_evaluation_qubits= num_qubits_register,\n",
    "                                  unitary= Unitary)\n",
    "    \n",
    "    # step 2) Ancilla Quantum Encoding:\n",
    "    # revisar el Nielsen and Chuang si tiene dudas de esto:\n",
    "    # paper adjunto tambien\n",
    "    q_ancilla_reg, q_system_reg = qpe_circuit.qregs\n",
    "    aqe_reg = QuantumRegister(1)\n",
    "    cr = ClassicalRegister(1)\n",
    "    \n",
    "    \n",
    "    # incializamos el circuito cuántico del HHL:\n",
    "    hhl_qc = QuantumCircuit( q_ancilla_reg, q_system_reg,aqe_reg, cr)\n",
    "\n",
    "    hhl_qc.initialize(init_ket_sv, q_system_reg)\n",
    "    \n",
    "    # le añadimos la parte del QPE:\n",
    "    hhl_qc.compose(qpe_circuit, inplace=True)\n",
    "\n",
    "    hhl_qc.barrier()\n",
    "\n",
    "    # añadimos la parte del AQE:\n",
    "\n",
    "    hhl_qc.compose(aqc_circuit, aqe_reg[:] + q_ancilla_reg[:], inplace= True)\n",
    "\n",
    "    hhl_qc.barrier()\n",
    "\n",
    "    # añadimos la inversa del QPE:\n",
    "    hhl_qc.compose(qpe_circuit.inverse(), inplace=True)\n",
    "\n",
    "    hhl_qc.barrier()\n",
    "    #medimos:\n",
    "    hhl_qc.measure(aqe_reg, cr)\n",
    "\n",
    "    #\n",
    "    \n",
    "    meas = ClassicalRegister(len(q_system_reg))\n",
    "    hhl_qc.add_register(meas)\n",
    "\n",
    "    hhl_qc.measure(q_system_reg, meas)\n",
    "    \n",
    "    return hhl_qc"
   ]
  },
  {
   "cell_type": "code",
   "execution_count": 17,
   "id": "b86f935e-e734-468e-8e25-15b46d86a26f",
   "metadata": {},
   "outputs": [
    {
     "data": {
      "text/plain": [
       "\"\\nu_try = rand_unitary(dimensions= 2).full()\\nprint('u_try',u_try) \\nu_op = Operator(u_try).to_instruction()\\n\\nprint('B_prime',B_prime_prime_unitary)\\nBp_op = Operator(B_prime_unitary)\\nBp_op = Bp_op.to_instruction()\\n\\nu_gate = HamiltonianGate(Bp_op, time = 1)\\n\\n\\nhhl_circuit = HHL_algorithm_original(unitary= u_op,\\n                                     num_qubits_register= 4)\\n\\n\\nhhl_circuit.draw('mpl')\\n\""
      ]
     },
     "execution_count": 17,
     "metadata": {},
     "output_type": "execute_result"
    }
   ],
   "source": [
    "'''\n",
    "u_try = rand_unitary(dimensions= 2).full()\n",
    "print('u_try',u_try) \n",
    "u_op = Operator(u_try).to_instruction()\n",
    "\n",
    "print('B_prime',B_prime_prime_unitary)\n",
    "Bp_op = Operator(B_prime_unitary)\n",
    "Bp_op = Bp_op.to_instruction()\n",
    "\n",
    "u_gate = HamiltonianGate(Bp_op, time = 1)\n",
    "\n",
    "\n",
    "hhl_circuit = HHL_algorithm_original(unitary= u_op,\n",
    "                                     num_qubits_register= 4)\n",
    "\n",
    "\n",
    "hhl_circuit.draw('mpl')\n",
    "'''"
   ]
  },
  {
   "cell_type": "code",
   "execution_count": 18,
   "id": "c35a98f6-9d67-4a89-8090-712dcbe67a3b",
   "metadata": {},
   "outputs": [],
   "source": [
    "\n",
    "def pad_to_next_power_of_two(A, tol=1e-10):\n",
    "    \"\"\"\n",
    "    Pad a square Hermitian matrix A to the next power-of-two dimension with zeros.\n",
    "    The original matrix is placed in the top-left corner of the returned matrix.\n",
    "\n",
    "    Args:\n",
    "        A (np.ndarray): square matrix (x x x), expected Hermitian.\n",
    "        tol (float): tolerance for Hermitian check.\n",
    "\n",
    "    Returns:\n",
    "        np.ndarray: padded matrix of size (2^n x 2^n) with A in top-left.\n",
    "    \"\"\"\n",
    "    # Basic checks\n",
    "    if not isinstance(A, np.ndarray):\n",
    "        A = np.array(A)\n",
    "    if A.ndim != 2 or A.shape[0] != A.shape[1]:\n",
    "        raise ValueError(\"A must be a square matrix.\")\n",
    "    x = A.shape[0]\n",
    "    if x == 0:\n",
    "        raise ValueError(\"Input matrix must have positive dimension.\")\n",
    "\n",
    "    # Hermitian check (allow small numerical errors)\n",
    "    if not np.allclose(A, A.conj().T, atol=tol, rtol=0):\n",
    "        raise ValueError(\"Input matrix is not Hermitian within tolerance.\")\n",
    "\n",
    "    # compute next power of two >= x\n",
    "    # method: if x is already a power of two, target = x\n",
    "    # else target = 1 << (x.bit_length())\n",
    "    if (x & (x - 1)) == 0:  # x is power of two\n",
    "        target = x\n",
    "    else:\n",
    "        target = 1 << x.bit_length()\n",
    "\n",
    "    # create zero matrix and place A in top-left\n",
    "    padded = np.zeros((target, target), dtype=A.dtype)\n",
    "    padded[:x, :x] = A\n",
    "\n",
    "    return padded"
   ]
  },
  {
   "cell_type": "code",
   "execution_count": 87,
   "id": "60588104-91a0-447a-a488-e4a95e66762a",
   "metadata": {},
   "outputs": [
    {
     "name": "stderr",
     "output_type": "stream",
     "text": [
      "/tmp/ipykernel_25551/3355326984.py:18: DeprecationWarning: The class ``qiskit.circuit.library.phase_estimation.PhaseEstimation`` is deprecated as of Qiskit 2.1. It will be removed in Qiskit 3.0. Use qiskit.circuit.library.phase_estimation instead.\n",
      "  qpe_circuit = PhaseEstimation(num_evaluation_qubits= num_qubits_register,\n"
     ]
    },
    {
     "ename": "QiskitError",
     "evalue": "'Desired statevector length not a positive power of 2.'",
     "output_type": "error",
     "traceback": [
      "\u001b[0;31m---------------------------------------------------------------------------\u001b[0m",
      "\u001b[0;31mQiskitError\u001b[0m                               Traceback (most recent call last)",
      "Cell \u001b[0;32mIn[87], line 4\u001b[0m\n\u001b[1;32m      1\u001b[0m pad_B_prime\u001b[38;5;241m=\u001b[39mpad_to_next_power_of_two(B_prime)\n\u001b[1;32m      2\u001b[0m pad_B_prime_prime\u001b[38;5;241m=\u001b[39mpad_to_next_power_of_two(B_prime_prime)\n\u001b[0;32m----> 4\u001b[0m hhl_circuit \u001b[38;5;241m=\u001b[39m \u001b[43mHHL_algorithm_original\u001b[49m\u001b[43m(\u001b[49m\u001b[43mHerm_op\u001b[49m\u001b[38;5;241;43m=\u001b[39;49m\u001b[43m \u001b[49m\u001b[43mpad_B_prime\u001b[49m\u001b[43m,\u001b[49m\n\u001b[1;32m      5\u001b[0m \u001b[43m                                     \u001b[49m\u001b[43minit_ket\u001b[49m\u001b[38;5;241;43m=\u001b[39;49m\u001b[43m \u001b[49m\u001b[43mdeltas_bin\u001b[49m\u001b[43m[\u001b[49m\u001b[38;5;241;43m0\u001b[39;49m\u001b[43m]\u001b[49m\u001b[38;5;241;43m.\u001b[39;49m\u001b[43mflatten\u001b[49m\u001b[43m(\u001b[49m\u001b[43m)\u001b[49m\u001b[43m,\u001b[49m\n\u001b[1;32m      6\u001b[0m \u001b[43m                                     \u001b[49m\u001b[43mnum_qubits_register\u001b[49m\u001b[38;5;241;43m=\u001b[39;49m\u001b[43m \u001b[49m\u001b[38;5;241;43m4\u001b[39;49m\u001b[43m)\u001b[49m\n\u001b[1;32m      8\u001b[0m hhl_circuit\u001b[38;5;241m.\u001b[39mdraw(\u001b[38;5;124m'\u001b[39m\u001b[38;5;124mmpl\u001b[39m\u001b[38;5;124m'\u001b[39m)\n",
      "Cell \u001b[0;32mIn[32], line 32\u001b[0m, in \u001b[0;36mHHL_algorithm_original\u001b[0;34m(Herm_op, init_ket, num_qubits_register)\u001b[0m\n\u001b[1;32m     29\u001b[0m \u001b[38;5;66;03m# incializamos el circuito cuántico del HHL:\u001b[39;00m\n\u001b[1;32m     30\u001b[0m hhl_qc \u001b[38;5;241m=\u001b[39m QuantumCircuit( q_ancilla_reg, q_system_reg,aqe_reg, cr)\n\u001b[0;32m---> 32\u001b[0m \u001b[43mhhl_qc\u001b[49m\u001b[38;5;241;43m.\u001b[39;49m\u001b[43minitialize\u001b[49m\u001b[43m(\u001b[49m\u001b[43minit_ket_sv\u001b[49m\u001b[43m,\u001b[49m\u001b[43m \u001b[49m\u001b[43mq_system_reg\u001b[49m\u001b[43m)\u001b[49m\n\u001b[1;32m     34\u001b[0m \u001b[38;5;66;03m# le añadimos la parte del QPE:\u001b[39;00m\n\u001b[1;32m     35\u001b[0m hhl_qc\u001b[38;5;241m.\u001b[39mcompose(qpe_circuit, inplace\u001b[38;5;241m=\u001b[39m\u001b[38;5;28;01mTrue\u001b[39;00m)\n",
      "File \u001b[0;32m/opt/conda/lib/python3.11/site-packages/qiskit/circuit/quantumcircuit.py:6710\u001b[0m, in \u001b[0;36mQuantumCircuit.initialize\u001b[0;34m(self, params, qubits, normalize)\u001b[0m\n\u001b[1;32m   6706\u001b[0m     qubits \u001b[38;5;241m=\u001b[39m [qubits]\n\u001b[1;32m   6708\u001b[0m num_qubits \u001b[38;5;241m=\u001b[39m \u001b[38;5;28mlen\u001b[39m(qubits) \u001b[38;5;28;01mif\u001b[39;00m \u001b[38;5;28misinstance\u001b[39m(params, \u001b[38;5;28mint\u001b[39m) \u001b[38;5;28;01melse\u001b[39;00m \u001b[38;5;28;01mNone\u001b[39;00m\n\u001b[0;32m-> 6710\u001b[0m \u001b[38;5;28;01mreturn\u001b[39;00m \u001b[38;5;28mself\u001b[39m\u001b[38;5;241m.\u001b[39mappend(\u001b[43mInitialize\u001b[49m\u001b[43m(\u001b[49m\u001b[43mparams\u001b[49m\u001b[43m,\u001b[49m\u001b[43m \u001b[49m\u001b[43mnum_qubits\u001b[49m\u001b[43m,\u001b[49m\u001b[43m \u001b[49m\u001b[43mnormalize\u001b[49m\u001b[43m)\u001b[49m, qubits, copy\u001b[38;5;241m=\u001b[39m\u001b[38;5;28;01mFalse\u001b[39;00m)\n",
      "File \u001b[0;32m/opt/conda/lib/python3.11/site-packages/qiskit/circuit/library/data_preparation/initializer.py:76\u001b[0m, in \u001b[0;36mInitialize.__init__\u001b[0;34m(self, params, num_qubits, normalize)\u001b[0m\n\u001b[1;32m     51\u001b[0m \u001b[38;5;28;01mdef\u001b[39;00m \u001b[38;5;21m__init__\u001b[39m(\n\u001b[1;32m     52\u001b[0m     \u001b[38;5;28mself\u001b[39m,\n\u001b[1;32m     53\u001b[0m     params: Statevector \u001b[38;5;241m|\u001b[39m Sequence[\u001b[38;5;28mcomplex\u001b[39m] \u001b[38;5;241m|\u001b[39m \u001b[38;5;28mstr\u001b[39m \u001b[38;5;241m|\u001b[39m \u001b[38;5;28mint\u001b[39m,\n\u001b[1;32m     54\u001b[0m     num_qubits: \u001b[38;5;28mint\u001b[39m \u001b[38;5;241m|\u001b[39m \u001b[38;5;28;01mNone\u001b[39;00m \u001b[38;5;241m=\u001b[39m \u001b[38;5;28;01mNone\u001b[39;00m,\n\u001b[1;32m     55\u001b[0m     normalize: \u001b[38;5;28mbool\u001b[39m \u001b[38;5;241m=\u001b[39m \u001b[38;5;28;01mFalse\u001b[39;00m,\n\u001b[1;32m     56\u001b[0m ) \u001b[38;5;241m-\u001b[39m\u001b[38;5;241m>\u001b[39m \u001b[38;5;28;01mNone\u001b[39;00m:\n\u001b[1;32m     57\u001b[0m \u001b[38;5;250m    \u001b[39m\u001b[38;5;124mr\u001b[39m\u001b[38;5;124;03m\"\"\"\u001b[39;00m\n\u001b[1;32m     58\u001b[0m \u001b[38;5;124;03m    Args:\u001b[39;00m\n\u001b[1;32m     59\u001b[0m \u001b[38;5;124;03m        params: The state to initialize to, can be either of the following.\u001b[39;00m\n\u001b[0;32m   (...)\u001b[0m\n\u001b[1;32m     74\u001b[0m \u001b[38;5;124;03m        normalize: Whether to normalize an input array to a unit vector.\u001b[39;00m\n\u001b[1;32m     75\u001b[0m \u001b[38;5;124;03m    \"\"\"\u001b[39;00m\n\u001b[0;32m---> 76\u001b[0m     \u001b[38;5;28mself\u001b[39m\u001b[38;5;241m.\u001b[39m_stateprep \u001b[38;5;241m=\u001b[39m \u001b[43mStatePreparation\u001b[49m\u001b[43m(\u001b[49m\u001b[43mparams\u001b[49m\u001b[43m,\u001b[49m\u001b[43m \u001b[49m\u001b[43mnum_qubits\u001b[49m\u001b[43m,\u001b[49m\u001b[43m \u001b[49m\u001b[43mnormalize\u001b[49m\u001b[38;5;241;43m=\u001b[39;49m\u001b[43mnormalize\u001b[49m\u001b[43m)\u001b[49m\n\u001b[1;32m     78\u001b[0m     \u001b[38;5;28msuper\u001b[39m()\u001b[38;5;241m.\u001b[39m\u001b[38;5;21m__init__\u001b[39m(\u001b[38;5;124m\"\u001b[39m\u001b[38;5;124minitialize\u001b[39m\u001b[38;5;124m\"\u001b[39m, \u001b[38;5;28mself\u001b[39m\u001b[38;5;241m.\u001b[39m_stateprep\u001b[38;5;241m.\u001b[39mnum_qubits, \u001b[38;5;241m0\u001b[39m, \u001b[38;5;28mself\u001b[39m\u001b[38;5;241m.\u001b[39m_stateprep\u001b[38;5;241m.\u001b[39mparams)\n",
      "File \u001b[0;32m/opt/conda/lib/python3.11/site-packages/qiskit/circuit/library/data_preparation/state_preparation.py:112\u001b[0m, in \u001b[0;36mStatePreparation.__init__\u001b[0;34m(self, params, num_qubits, inverse, label, normalize)\u001b[0m\n\u001b[1;32m    109\u001b[0m     \u001b[38;5;28;01melif\u001b[39;00m \u001b[38;5;129;01mnot\u001b[39;00m math\u001b[38;5;241m.\u001b[39misclose(norm, \u001b[38;5;241m1.0\u001b[39m, abs_tol\u001b[38;5;241m=\u001b[39m_EPS):\n\u001b[1;32m    110\u001b[0m         \u001b[38;5;28;01mraise\u001b[39;00m QiskitError(\u001b[38;5;124mf\u001b[39m\u001b[38;5;124m\"\u001b[39m\u001b[38;5;124mSum of amplitudes-squared is not 1, but \u001b[39m\u001b[38;5;132;01m{\u001b[39;00mnorm\u001b[38;5;132;01m}\u001b[39;00m\u001b[38;5;124m.\u001b[39m\u001b[38;5;124m\"\u001b[39m)\n\u001b[0;32m--> 112\u001b[0m num_qubits \u001b[38;5;241m=\u001b[39m \u001b[38;5;28;43mself\u001b[39;49m\u001b[38;5;241;43m.\u001b[39;49m\u001b[43m_get_num_qubits\u001b[49m\u001b[43m(\u001b[49m\u001b[43mnum_qubits\u001b[49m\u001b[43m,\u001b[49m\u001b[43m \u001b[49m\u001b[43mparams\u001b[49m\u001b[43m)\u001b[49m\n\u001b[1;32m    113\u001b[0m params \u001b[38;5;241m=\u001b[39m [params] \u001b[38;5;28;01mif\u001b[39;00m \u001b[38;5;28misinstance\u001b[39m(params, \u001b[38;5;28mint\u001b[39m) \u001b[38;5;28;01melse\u001b[39;00m params\n\u001b[1;32m    115\u001b[0m \u001b[38;5;28msuper\u001b[39m()\u001b[38;5;241m.\u001b[39m\u001b[38;5;21m__init__\u001b[39m(\u001b[38;5;28mself\u001b[39m\u001b[38;5;241m.\u001b[39m_name, num_qubits, params, label\u001b[38;5;241m=\u001b[39m\u001b[38;5;28mself\u001b[39m\u001b[38;5;241m.\u001b[39m_label)\n",
      "File \u001b[0;32m/opt/conda/lib/python3.11/site-packages/qiskit/circuit/library/data_preparation/state_preparation.py:199\u001b[0m, in \u001b[0;36mStatePreparation._get_num_qubits\u001b[0;34m(self, num_qubits, params)\u001b[0m\n\u001b[1;32m    197\u001b[0m     \u001b[38;5;66;03m# Check if param is a power of 2\u001b[39;00m\n\u001b[1;32m    198\u001b[0m     \u001b[38;5;28;01mif\u001b[39;00m num_qubits \u001b[38;5;241m==\u001b[39m \u001b[38;5;241m0\u001b[39m \u001b[38;5;129;01mor\u001b[39;00m \u001b[38;5;129;01mnot\u001b[39;00m num_qubits\u001b[38;5;241m.\u001b[39mis_integer():\n\u001b[0;32m--> 199\u001b[0m         \u001b[38;5;28;01mraise\u001b[39;00m QiskitError(\u001b[38;5;124m\"\u001b[39m\u001b[38;5;124mDesired statevector length not a positive power of 2.\u001b[39m\u001b[38;5;124m\"\u001b[39m)\n\u001b[1;32m    201\u001b[0m     num_qubits \u001b[38;5;241m=\u001b[39m \u001b[38;5;28mint\u001b[39m(num_qubits)\n\u001b[1;32m    202\u001b[0m \u001b[38;5;28;01mreturn\u001b[39;00m num_qubits\n",
      "\u001b[0;31mQiskitError\u001b[0m: 'Desired statevector length not a positive power of 2.'"
     ]
    }
   ],
   "source": [
    "\n",
    "pad_B_prime=pad_to_next_power_of_two(B_prime)\n",
    "pad_B_prime_prime=pad_to_next_power_of_two(B_prime_prime)\n",
    "\n",
    "hhl_circuit = HHL_algorithm_original(Herm_op= pad_B_prime,\n",
    "                                     init_ket= deltas_bin[0].flatten(),\n",
    "                                     num_qubits_register= 4)\n",
    "\n",
    "hhl_circuit.draw('mpl')"
   ]
  },
  {
   "cell_type": "markdown",
   "id": "329870cd-cda2-408a-86b2-a18afd5e57ed",
   "metadata": {},
   "source": [
    "Now we can actually sim and run on a real Quantum Computer"
   ]
  },
  {
   "cell_type": "code",
   "execution_count": 20,
   "id": "8b9c704a-fc13-4417-9123-5ba215cafbae",
   "metadata": {},
   "outputs": [
    {
     "data": {
      "text/plain": [
       "{'cirq': cirq.circuits.circuit.Circuit,\n",
       " 'qiskit': qiskit.circuit.quantumcircuit.QuantumCircuit,\n",
       " 'openqasm3': openqasm3.ast.Program,\n",
       " 'qasm2_kirin': str,\n",
       " 'qasm3': str,\n",
       " 'qasm2': str,\n",
       " 'qubo': qbraid.programs.typer.QuboCoefficientsDict,\n",
       " 'ionq': qbraid.programs.typer.IonQDict,\n",
       " 'pyqir': Module}"
      ]
     },
     "execution_count": 20,
     "metadata": {},
     "output_type": "execute_result"
    }
   ],
   "source": [
    "QPROGRAM_REGISTRY"
   ]
  },
  {
   "cell_type": "code",
   "execution_count": 21,
   "id": "5328bcb3-1d25-44d4-9dec-97f5f6214414",
   "metadata": {},
   "outputs": [
    {
     "name": "stderr",
     "output_type": "stream",
     "text": [
      "Barriers are not supported in Cirq, and will be removed during program conversion.\n"
     ]
    }
   ],
   "source": [
    "# Convert to cirq so that we can use the cirq_to_qir function to get to the right format for some azure endpoints\n",
    "\n",
    "cirq_circuit = transpile(hhl_circuit.decompose(reps=6), \"cirq\")"
   ]
  },
  {
   "cell_type": "code",
   "execution_count": null,
   "id": "d92e020c-daa0-4eeb-b4bb-46806a0a7d61",
   "metadata": {},
   "outputs": [],
   "source": []
  },
  {
   "cell_type": "code",
   "execution_count": 26,
   "id": "aac5238e-5efd-40eb-88b0-e74fe5c687a5",
   "metadata": {},
   "outputs": [
    {
     "data": {
      "text/plain": [
       "893"
      ]
     },
     "execution_count": 26,
     "metadata": {},
     "output_type": "execute_result"
    }
   ],
   "source": [
    "hhl_circuit.decompose(reps=6).depth()"
   ]
  },
  {
   "cell_type": "code",
   "execution_count": 28,
   "id": "f019ce3d-3419-44f4-a871-30e18ef6f7f3",
   "metadata": {},
   "outputs": [
    {
     "data": {
      "text/plain": [
       "'\\nprint(\"QIR circuit is: \\n\")\\nprint(str(qir_circuit))\\n\\nprint(\"QASM2 circuit is: \\n\")\\nprint(qasm2_circuit)'"
      ]
     },
     "execution_count": 28,
     "metadata": {},
     "output_type": "execute_result"
    }
   ],
   "source": [
    "qir_circuit = cirq_to_qir(cirq_circuit)\n",
    "qasm2_circuit = transpile(cirq_circuit, \"qasm2\")\n",
    "'''\n",
    "print(\"QIR circuit is: \\n\")\n",
    "print(str(qir_circuit))\n",
    "\n",
    "print(\"QASM2 circuit is: \\n\")\n",
    "print(qasm2_circuit)'''"
   ]
  },
  {
   "cell_type": "code",
   "execution_count": 24,
   "id": "afba3b29-1076-43da-8ee9-1efa66354bb1",
   "metadata": {},
   "outputs": [],
   "source": [
    "provider = QbraidProvider()\n"
   ]
  },
  {
   "cell_type": "code",
   "execution_count": 29,
   "id": "13d351fa-5ee1-49b4-908e-376959033c53",
   "metadata": {},
   "outputs": [],
   "source": [
    "\n",
    "backend = provider.get_device(\"rigetti.sim.qvm\")\n",
    "job = backend.run(qir_circuit, shots=1000, entrypoint=\"main\")\n"
   ]
  },
  {
   "cell_type": "code",
   "execution_count": null,
   "id": "c02e2c65-93e8-467f-b807-51b8eecebcf2",
   "metadata": {},
   "outputs": [],
   "source": [
    "backend = provider.get_device(\"rigetti.qpu.ankaa-3\")\n",
    "job = backend.run(qir_circuit, shots=1000, entrypoint=\"main\")"
   ]
  },
  {
   "cell_type": "code",
   "execution_count": 30,
   "id": "e93f212d-22d1-4ade-a796-4e45520ec8b0",
   "metadata": {},
   "outputs": [
    {
     "data": {
      "text/plain": [
       "<INITIALIZING: 'job is being initialized'>"
      ]
     },
     "execution_count": 30,
     "metadata": {},
     "output_type": "execute_result"
    }
   ],
   "source": [
    "job.status()"
   ]
  },
  {
   "cell_type": "code",
   "execution_count": 31,
   "id": "ee6f3f2c-b1e5-4e7d-89ab-02a04d2ef671",
   "metadata": {},
   "outputs": [
    {
     "data": {
      "text/plain": [
       "Result(\n",
       "  device_id=rigetti.sim.qvm,\n",
       "  job_id=rigetti.sim.qvm-fac081022-qjob-d0mhklsqzyenf1g78n25,\n",
       "  success=True,\n",
       "  data=GateModelResultData(measurement_counts={'00000000': 1000}, measurements=array(shape=(0,), dtype=object), measurement_probabilities=None),\n",
       "  status='COMPLETED',\n",
       "  statusText='job has successfully run',\n",
       "  shots=1000,\n",
       "  experimentType=GATE_MODEL,\n",
       "  timeStamps={createdAt: 2025-10-03T15:25:26Z, endedAt: 2025-10-03T15:25:49Z, executionDuration: 15166},\n",
       "  tags={errorMitigationDebias: False},\n",
       "  cost=Credits('0'),\n",
       "  preflight=False,\n",
       "  schemaHeader={name: 'qbraid.runtime.schemas.job', version: 1.0},\n",
       "  metadata={openQasm: None, circuitNumQubits: None, circuitDepth: None}\n",
       ")"
      ]
     },
     "execution_count": 31,
     "metadata": {},
     "output_type": "execute_result"
    }
   ],
   "source": [
    "job.result()"
   ]
  },
  {
   "cell_type": "code",
   "execution_count": null,
   "id": "ab3badf3-eae9-488a-b31e-6598b910c361",
   "metadata": {},
   "outputs": [],
   "source": []
  }
 ],
 "metadata": {
  "kernelspec": {
   "display_name": "Python 3 [Default]",
   "language": "python",
   "name": "python3"
  },
  "language_info": {
   "codemirror_mode": {
    "name": "ipython",
    "version": 3
   },
   "file_extension": ".py",
   "mimetype": "text/x-python",
   "name": "python",
   "nbconvert_exporter": "python",
   "pygments_lexer": "ipython3",
   "version": "3.11.9"
  }
 },
 "nbformat": 4,
 "nbformat_minor": 5
}
