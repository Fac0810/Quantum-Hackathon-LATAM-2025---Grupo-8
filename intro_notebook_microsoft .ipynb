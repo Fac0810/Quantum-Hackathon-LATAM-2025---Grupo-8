{
 "cells": [
  {
   "cell_type": "code",
   "execution_count": 1,
   "metadata": {},
   "outputs": [
    {
     "name": "stdout",
     "output_type": "stream",
     "text": [
      "Requirement already satisfied: pip in /opt/conda/lib/python3.11/site-packages (25.1.1)\n",
      "Collecting pip\n",
      "  Using cached pip-25.2-py3-none-any.whl.metadata (4.7 kB)\n",
      "Using cached pip-25.2-py3-none-any.whl (1.8 MB)\n",
      "Installing collected packages: pip\n",
      "  Attempting uninstall: pip\n",
      "    Found existing installation: pip 25.1.1\n",
      "    Uninstalling pip-25.1.1:\n",
      "      Successfully uninstalled pip-25.1.1\n",
      "Successfully installed pip-25.2\n",
      "Collecting qiskit\n",
      "  Using cached qiskit-2.2.1-cp39-abi3-manylinux2014_x86_64.manylinux_2_17_x86_64.whl.metadata (12 kB)\n",
      "Collecting rustworkx>=0.15.0 (from qiskit)\n",
      "  Using cached rustworkx-0.17.1-cp39-abi3-manylinux_2_17_x86_64.manylinux2014_x86_64.whl.metadata (10 kB)\n",
      "Requirement already satisfied: numpy<3,>=1.17 in /opt/conda/lib/python3.11/site-packages (from qiskit) (2.3.3)\n",
      "Collecting scipy>=1.5 (from qiskit)\n",
      "  Using cached scipy-1.16.2-cp311-cp311-manylinux2014_x86_64.manylinux_2_17_x86_64.whl.metadata (62 kB)\n",
      "Collecting dill>=0.3 (from qiskit)\n",
      "  Using cached dill-0.4.0-py3-none-any.whl.metadata (10 kB)\n",
      "Collecting stevedore>=3.0.0 (from qiskit)\n",
      "  Using cached stevedore-5.5.0-py3-none-any.whl.metadata (2.2 kB)\n",
      "Requirement already satisfied: typing-extensions in /opt/conda/lib/python3.11/site-packages (from qiskit) (4.14.0)\n",
      "Using cached qiskit-2.2.1-cp39-abi3-manylinux2014_x86_64.manylinux_2_17_x86_64.whl (8.0 MB)\n",
      "Using cached dill-0.4.0-py3-none-any.whl (119 kB)\n",
      "Using cached rustworkx-0.17.1-cp39-abi3-manylinux_2_17_x86_64.manylinux2014_x86_64.whl (2.2 MB)\n",
      "Using cached scipy-1.16.2-cp311-cp311-manylinux2014_x86_64.manylinux_2_17_x86_64.whl (35.9 MB)\n",
      "Using cached stevedore-5.5.0-py3-none-any.whl (49 kB)\n",
      "Installing collected packages: stevedore, scipy, rustworkx, dill, qiskit\n",
      "\u001b[2K   \u001b[90m━━━━━━━━━━━━━━━━━━━━━━━━━━━━━━━━━━━━━━━━\u001b[0m \u001b[32m5/5\u001b[0m [qiskit]2m4/5\u001b[0m [qiskit]kx]\n",
      "\u001b[1A\u001b[2KSuccessfully installed dill-0.4.0 qiskit-2.2.1 rustworkx-0.17.1 scipy-1.16.2 stevedore-5.5.0\n",
      "Collecting qutip\n",
      "  Using cached qutip-5.2.1-cp311-cp311-manylinux_2_17_x86_64.manylinux2014_x86_64.whl.metadata (9.5 kB)\n",
      "Requirement already satisfied: numpy>=1.22 in /opt/conda/lib/python3.11/site-packages (from qutip) (2.3.3)\n",
      "Requirement already satisfied: scipy!=1.16.0,>=1.9 in /opt/conda/lib/python3.11/site-packages (from qutip) (1.16.2)\n",
      "Requirement already satisfied: packaging in /opt/conda/lib/python3.11/site-packages (from qutip) (24.0)\n",
      "Using cached qutip-5.2.1-cp311-cp311-manylinux_2_17_x86_64.manylinux2014_x86_64.whl (32.4 MB)\n",
      "Installing collected packages: qutip\n",
      "Successfully installed qutip-5.2.1\n",
      "Collecting pylatexenc\n",
      "  Using cached pylatexenc-2.10-py3-none-any.whl\n",
      "Installing collected packages: pylatexenc\n",
      "Successfully installed pylatexenc-2.10\n",
      "Collecting cirq\n",
      "  Using cached cirq-1.6.1-py3-none-any.whl.metadata (16 kB)\n",
      "Collecting cirq-aqt==1.6.1 (from cirq)\n",
      "  Using cached cirq_aqt-1.6.1-py3-none-any.whl.metadata (4.7 kB)\n",
      "Collecting cirq-core==1.6.1 (from cirq)\n",
      "  Using cached cirq_core-1.6.1-py3-none-any.whl.metadata (4.8 kB)\n",
      "Collecting cirq-google==1.6.1 (from cirq)\n",
      "  Using cached cirq_google-1.6.1-py3-none-any.whl.metadata (4.9 kB)\n",
      "Collecting cirq-ionq==1.6.1 (from cirq)\n",
      "  Using cached cirq_ionq-1.6.1-py3-none-any.whl.metadata (4.7 kB)\n",
      "Collecting cirq-pasqal==1.6.1 (from cirq)\n",
      "  Using cached cirq_pasqal-1.6.1-py3-none-any.whl.metadata (4.7 kB)\n",
      "Collecting cirq-web==1.6.1 (from cirq)\n",
      "  Using cached cirq_web-1.6.1-py3-none-any.whl.metadata (5.4 kB)\n",
      "Collecting requests~=2.32 (from cirq-aqt==1.6.1->cirq)\n",
      "  Using cached requests-2.32.5-py3-none-any.whl.metadata (4.9 kB)\n",
      "Requirement already satisfied: attrs>=21.3.0 in /opt/conda/lib/python3.11/site-packages (from cirq-core==1.6.1->cirq) (23.2.0)\n",
      "Collecting duet>=0.2.8 (from cirq-core==1.6.1->cirq)\n",
      "  Using cached duet-0.2.9-py3-none-any.whl.metadata (2.3 kB)\n",
      "Requirement already satisfied: matplotlib~=3.8 in /opt/conda/lib/python3.11/site-packages (from cirq-core==1.6.1->cirq) (3.10.6)\n",
      "Collecting networkx~=3.4 (from cirq-core==1.6.1->cirq)\n",
      "  Using cached networkx-3.5-py3-none-any.whl.metadata (6.3 kB)\n",
      "Requirement already satisfied: numpy>=1.26 in /opt/conda/lib/python3.11/site-packages (from cirq-core==1.6.1->cirq) (2.3.3)\n",
      "Requirement already satisfied: pandas~=2.1 in /opt/conda/lib/python3.11/site-packages (from cirq-core==1.6.1->cirq) (2.3.2)\n",
      "Collecting sortedcontainers~=2.0 (from cirq-core==1.6.1->cirq)\n",
      "  Using cached sortedcontainers-2.4.0-py2.py3-none-any.whl.metadata (10 kB)\n",
      "Requirement already satisfied: scipy~=1.12 in /opt/conda/lib/python3.11/site-packages (from cirq-core==1.6.1->cirq) (1.16.2)\n",
      "Collecting sympy (from cirq-core==1.6.1->cirq)\n",
      "  Using cached sympy-1.14.0-py3-none-any.whl.metadata (12 kB)\n",
      "Requirement already satisfied: typing_extensions>=4.2 in /opt/conda/lib/python3.11/site-packages (from cirq-core==1.6.1->cirq) (4.14.0)\n",
      "Requirement already satisfied: tqdm>=4.12 in /opt/conda/lib/python3.11/site-packages (from cirq-core==1.6.1->cirq) (4.66.4)\n",
      "Collecting google-api-core~=2.22 (from google-api-core[grpc]~=2.22->cirq-google==1.6.1->cirq)\n",
      "  Downloading google_api_core-2.25.2-py3-none-any.whl.metadata (3.0 kB)\n",
      "Collecting proto-plus~=1.25 (from cirq-google==1.6.1->cirq)\n",
      "  Using cached proto_plus-1.26.1-py3-none-any.whl.metadata (2.2 kB)\n",
      "Collecting protobuf<6.0dev,>=5.26.1 (from cirq-google==1.6.1->cirq)\n",
      "  Using cached protobuf-5.29.5-cp38-abi3-manylinux2014_x86_64.whl.metadata (592 bytes)\n",
      "Collecting typedunits (from cirq-google==1.6.1->cirq)\n",
      "  Using cached typedunits-0.0.1-cp311-cp311-manylinux2014_x86_64.manylinux_2_17_x86_64.manylinux_2_28_x86_64.whl.metadata (4.9 kB)\n",
      "Collecting googleapis-common-protos<2.0.0,>=1.56.2 (from google-api-core~=2.22->google-api-core[grpc]~=2.22->cirq-google==1.6.1->cirq)\n",
      "  Using cached googleapis_common_protos-1.70.0-py3-none-any.whl.metadata (9.3 kB)\n",
      "Collecting google-auth<3.0.0,>=2.14.1 (from google-api-core~=2.22->google-api-core[grpc]~=2.22->cirq-google==1.6.1->cirq)\n",
      "  Using cached google_auth-2.41.1-py2.py3-none-any.whl.metadata (6.6 kB)\n",
      "Collecting grpcio<2.0.0,>=1.33.2 (from google-api-core[grpc]~=2.22->cirq-google==1.6.1->cirq)\n",
      "  Using cached grpcio-1.75.1-cp311-cp311-manylinux2014_x86_64.manylinux_2_17_x86_64.whl.metadata (3.7 kB)\n",
      "Collecting grpcio-status<2.0.0,>=1.33.2 (from google-api-core[grpc]~=2.22->cirq-google==1.6.1->cirq)\n",
      "  Using cached grpcio_status-1.75.1-py3-none-any.whl.metadata (1.1 kB)\n",
      "Collecting cachetools<7.0,>=2.0.0 (from google-auth<3.0.0,>=2.14.1->google-api-core~=2.22->google-api-core[grpc]~=2.22->cirq-google==1.6.1->cirq)\n",
      "  Using cached cachetools-6.2.0-py3-none-any.whl.metadata (5.4 kB)\n",
      "Collecting pyasn1-modules>=0.2.1 (from google-auth<3.0.0,>=2.14.1->google-api-core~=2.22->google-api-core[grpc]~=2.22->cirq-google==1.6.1->cirq)\n",
      "  Using cached pyasn1_modules-0.4.2-py3-none-any.whl.metadata (3.5 kB)\n",
      "Requirement already satisfied: rsa<5,>=3.1.4 in /opt/conda/lib/python3.11/site-packages (from google-auth<3.0.0,>=2.14.1->google-api-core~=2.22->google-api-core[grpc]~=2.22->cirq-google==1.6.1->cirq) (4.7.2)\n",
      "INFO: pip is looking at multiple versions of grpcio-status to determine which version is compatible with other requirements. This could take a while.\n",
      "Collecting grpcio-status<2.0.0,>=1.33.2 (from google-api-core[grpc]~=2.22->cirq-google==1.6.1->cirq)\n",
      "  Using cached grpcio_status-1.75.0-py3-none-any.whl.metadata (1.1 kB)\n",
      "  Using cached grpcio_status-1.74.0-py3-none-any.whl.metadata (1.1 kB)\n",
      "  Using cached grpcio_status-1.73.1-py3-none-any.whl.metadata (1.1 kB)\n",
      "  Using cached grpcio_status-1.73.0-py3-none-any.whl.metadata (1.1 kB)\n",
      "  Using cached grpcio_status-1.72.2-py3-none-any.whl.metadata (1.1 kB)\n",
      "  Using cached grpcio_status-1.72.1-py3-none-any.whl.metadata (1.1 kB)\n",
      "  Using cached grpcio_status-1.71.2-py3-none-any.whl.metadata (1.1 kB)\n",
      "Requirement already satisfied: contourpy>=1.0.1 in /opt/conda/lib/python3.11/site-packages (from matplotlib~=3.8->cirq-core==1.6.1->cirq) (1.3.3)\n",
      "Requirement already satisfied: cycler>=0.10 in /opt/conda/lib/python3.11/site-packages (from matplotlib~=3.8->cirq-core==1.6.1->cirq) (0.12.1)\n",
      "Requirement already satisfied: fonttools>=4.22.0 in /opt/conda/lib/python3.11/site-packages (from matplotlib~=3.8->cirq-core==1.6.1->cirq) (4.59.2)\n",
      "Requirement already satisfied: kiwisolver>=1.3.1 in /opt/conda/lib/python3.11/site-packages (from matplotlib~=3.8->cirq-core==1.6.1->cirq) (1.4.9)\n",
      "Requirement already satisfied: packaging>=20.0 in /opt/conda/lib/python3.11/site-packages (from matplotlib~=3.8->cirq-core==1.6.1->cirq) (24.0)\n",
      "Requirement already satisfied: pillow>=8 in /opt/conda/lib/python3.11/site-packages (from matplotlib~=3.8->cirq-core==1.6.1->cirq) (11.3.0)\n",
      "Requirement already satisfied: pyparsing>=2.3.1 in /opt/conda/lib/python3.11/site-packages (from matplotlib~=3.8->cirq-core==1.6.1->cirq) (3.2.3)\n",
      "Requirement already satisfied: python-dateutil>=2.7 in /opt/conda/lib/python3.11/site-packages (from matplotlib~=3.8->cirq-core==1.6.1->cirq) (2.9.0)\n",
      "Requirement already satisfied: pytz>=2020.1 in /opt/conda/lib/python3.11/site-packages (from pandas~=2.1->cirq-core==1.6.1->cirq) (2024.1)\n",
      "Requirement already satisfied: tzdata>=2022.7 in /opt/conda/lib/python3.11/site-packages (from pandas~=2.1->cirq-core==1.6.1->cirq) (2025.2)\n",
      "Requirement already satisfied: charset_normalizer<4,>=2 in /opt/conda/lib/python3.11/site-packages (from requests~=2.32->cirq-aqt==1.6.1->cirq) (3.3.2)\n",
      "Requirement already satisfied: idna<4,>=2.5 in /opt/conda/lib/python3.11/site-packages (from requests~=2.32->cirq-aqt==1.6.1->cirq) (3.7)\n",
      "Requirement already satisfied: urllib3<3,>=1.21.1 in /opt/conda/lib/python3.11/site-packages (from requests~=2.32->cirq-aqt==1.6.1->cirq) (2.2.1)\n",
      "Requirement already satisfied: certifi>=2017.4.17 in /opt/conda/lib/python3.11/site-packages (from requests~=2.32->cirq-aqt==1.6.1->cirq) (2024.2.2)\n",
      "Requirement already satisfied: pyasn1>=0.1.3 in /opt/conda/lib/python3.11/site-packages (from rsa<5,>=3.1.4->google-auth<3.0.0,>=2.14.1->google-api-core~=2.22->google-api-core[grpc]~=2.22->cirq-google==1.6.1->cirq) (0.6.1)\n",
      "Requirement already satisfied: six>=1.5 in /opt/conda/lib/python3.11/site-packages (from python-dateutil>=2.7->matplotlib~=3.8->cirq-core==1.6.1->cirq) (1.16.0)\n",
      "Collecting mpmath<1.4,>=1.1.0 (from sympy->cirq-core==1.6.1->cirq)\n",
      "  Using cached mpmath-1.3.0-py3-none-any.whl.metadata (8.6 kB)\n",
      "Collecting cython>=3.0.0 (from typedunits->cirq-google==1.6.1->cirq)\n",
      "  Using cached cython-3.1.4-cp311-cp311-manylinux2014_x86_64.manylinux_2_17_x86_64.manylinux_2_28_x86_64.whl.metadata (5.0 kB)\n",
      "Using cached cirq-1.6.1-py3-none-any.whl (11 kB)\n",
      "Using cached cirq_aqt-1.6.1-py3-none-any.whl (32 kB)\n",
      "Using cached cirq_core-1.6.1-py3-none-any.whl (2.0 MB)\n",
      "Using cached cirq_google-1.6.1-py3-none-any.whl (670 kB)\n",
      "Using cached cirq_ionq-1.6.1-py3-none-any.whl (73 kB)\n",
      "Using cached cirq_pasqal-1.6.1-py3-none-any.whl (33 kB)\n",
      "Using cached cirq_web-1.6.1-py3-none-any.whl (430 kB)\n",
      "Downloading google_api_core-2.25.2-py3-none-any.whl (162 kB)\n",
      "Using cached google_auth-2.41.1-py2.py3-none-any.whl (221 kB)\n",
      "Using cached cachetools-6.2.0-py3-none-any.whl (11 kB)\n",
      "Using cached googleapis_common_protos-1.70.0-py3-none-any.whl (294 kB)\n",
      "Using cached grpcio-1.75.1-cp311-cp311-manylinux2014_x86_64.manylinux_2_17_x86_64.whl (6.5 MB)\n",
      "Using cached grpcio_status-1.71.2-py3-none-any.whl (14 kB)\n",
      "Using cached networkx-3.5-py3-none-any.whl (2.0 MB)\n",
      "Using cached proto_plus-1.26.1-py3-none-any.whl (50 kB)\n",
      "Using cached protobuf-5.29.5-cp38-abi3-manylinux2014_x86_64.whl (319 kB)\n",
      "Using cached requests-2.32.5-py3-none-any.whl (64 kB)\n",
      "Using cached sortedcontainers-2.4.0-py2.py3-none-any.whl (29 kB)\n",
      "Using cached duet-0.2.9-py3-none-any.whl (29 kB)\n",
      "Using cached pyasn1_modules-0.4.2-py3-none-any.whl (181 kB)\n",
      "Using cached sympy-1.14.0-py3-none-any.whl (6.3 MB)\n",
      "Using cached mpmath-1.3.0-py3-none-any.whl (536 kB)\n",
      "Using cached typedunits-0.0.1-cp311-cp311-manylinux2014_x86_64.manylinux_2_17_x86_64.manylinux_2_28_x86_64.whl (2.8 MB)\n",
      "Using cached cython-3.1.4-cp311-cp311-manylinux2014_x86_64.manylinux_2_17_x86_64.manylinux_2_28_x86_64.whl (3.3 MB)\n",
      "Installing collected packages: sortedcontainers, mpmath, sympy, requests, pyasn1-modules, protobuf, networkx, grpcio, duet, cython, cachetools, typedunits, proto-plus, googleapis-common-protos, google-auth, grpcio-status, google-api-core, cirq-core, cirq-web, cirq-pasqal, cirq-ionq, cirq-aqt, cirq-google, cirq\n",
      "\u001b[2K  Attempting uninstall: requests━━━━━━━━━━━━━━━━━━━━━━━━━━━━━━━━━━\u001b[0m \u001b[32m 2/24\u001b[0m [sympy]]\n",
      "\u001b[2K    Found existing installation: requests 2.31.0━━━━━━━━━━━━━━\u001b[0m \u001b[32m 2/24\u001b[0m [sympy]\n",
      "\u001b[2K    Uninstalling requests-2.31.0:━━━━━━━━━━━━━━━━━━━━━━━━━━━━━\u001b[0m \u001b[32m 2/24\u001b[0m [sympy]\n",
      "\u001b[2K      Successfully uninstalled requests-2.31.0━━━━━━━━━━━━━━━━\u001b[0m \u001b[32m 2/24\u001b[0m [sympy]\n",
      "\u001b[2K   \u001b[90m━━━━━━━━━━━━━━━━━━━━━━━━━━━━━━━━━━━━━━━━\u001b[0m \u001b[32m24/24\u001b[0m [cirq]2m22/24\u001b[0m [cirq-google]ore]\n",
      "\u001b[1A\u001b[2KSuccessfully installed cachetools-6.2.0 cirq-1.6.1 cirq-aqt-1.6.1 cirq-core-1.6.1 cirq-google-1.6.1 cirq-ionq-1.6.1 cirq-pasqal-1.6.1 cirq-web-1.6.1 cython-3.1.4 duet-0.2.9 google-api-core-2.25.2 google-auth-2.41.1 googleapis-common-protos-1.70.0 grpcio-1.75.1 grpcio-status-1.71.2 mpmath-1.3.0 networkx-3.5 proto-plus-1.26.1 protobuf-5.29.5 pyasn1-modules-0.4.2 requests-2.32.5 sortedcontainers-2.4.0 sympy-1.14.0 typedunits-0.0.1\n",
      "Collecting qbraid\n",
      "  Using cached qbraid-0.9.10-py3-none-any.whl.metadata (15 kB)\n",
      "Requirement already satisfied: rustworkx>=0.15.0 in /opt/conda/lib/python3.11/site-packages (from qbraid) (0.17.1)\n",
      "Requirement already satisfied: numpy>=1.17 in /opt/conda/lib/python3.11/site-packages (from qbraid) (2.3.3)\n",
      "Collecting openqasm3>=0.4.0 (from openqasm3[parser]>=0.4.0->qbraid)\n",
      "  Using cached openqasm3-1.0.1-py3-none-any.whl.metadata (6.0 kB)\n",
      "Requirement already satisfied: qbraid-core>=0.1.39 in /opt/conda/lib/python3.11/site-packages (from qbraid) (0.1.41)\n",
      "Collecting pydantic<=2.11.1,>2.0.0 (from qbraid)\n",
      "  Using cached pydantic-2.11.1-py3-none-any.whl.metadata (63 kB)\n",
      "Requirement already satisfied: pydantic-core in /opt/conda/lib/python3.11/site-packages (from qbraid) (2.33.2)\n",
      "Requirement already satisfied: typing-extensions>=4.0.0 in /opt/conda/lib/python3.11/site-packages (from qbraid) (4.14.0)\n",
      "Collecting pyqasm<0.6.0,>=0.5.0 (from qbraid)\n",
      "  Using cached pyqasm-0.5.0-cp311-cp311-manylinux2014_x86_64.manylinux_2_17_x86_64.whl.metadata (9.7 kB)\n",
      "Requirement already satisfied: annotated-types>=0.6.0 in /opt/conda/lib/python3.11/site-packages (from pydantic<=2.11.1,>2.0.0->qbraid) (0.7.0)\n",
      "Collecting pydantic-core (from qbraid)\n",
      "  Using cached pydantic_core-2.33.0-cp311-cp311-manylinux_2_17_x86_64.manylinux2014_x86_64.whl.metadata (6.8 kB)\n",
      "Requirement already satisfied: typing-inspection>=0.4.0 in /opt/conda/lib/python3.11/site-packages (from pydantic<=2.11.1,>2.0.0->qbraid) (0.4.1)\n",
      "Collecting antlr4_python3_runtime<4.14,>=4.7 (from openqasm3[parser]>=0.4.0->qbraid)\n",
      "  Using cached antlr4_python3_runtime-4.13.2-py3-none-any.whl.metadata (304 bytes)\n",
      "Requirement already satisfied: requests in /opt/conda/lib/python3.11/site-packages (from qbraid-core>=0.1.39->qbraid) (2.32.5)\n",
      "Requirement already satisfied: urllib3 in /opt/conda/lib/python3.11/site-packages (from qbraid-core>=0.1.39->qbraid) (2.2.1)\n",
      "Requirement already satisfied: packaging in /opt/conda/lib/python3.11/site-packages (from qbraid-core>=0.1.39->qbraid) (24.0)\n",
      "Requirement already satisfied: charset_normalizer<4,>=2 in /opt/conda/lib/python3.11/site-packages (from requests->qbraid-core>=0.1.39->qbraid) (3.3.2)\n",
      "Requirement already satisfied: idna<4,>=2.5 in /opt/conda/lib/python3.11/site-packages (from requests->qbraid-core>=0.1.39->qbraid) (3.7)\n",
      "Requirement already satisfied: certifi>=2017.4.17 in /opt/conda/lib/python3.11/site-packages (from requests->qbraid-core>=0.1.39->qbraid) (2024.2.2)\n",
      "Using cached qbraid-0.9.10-py3-none-any.whl (290 kB)\n",
      "Using cached pydantic-2.11.1-py3-none-any.whl (442 kB)\n",
      "Using cached pydantic_core-2.33.0-cp311-cp311-manylinux_2_17_x86_64.manylinux2014_x86_64.whl (2.0 MB)\n",
      "Using cached pyqasm-0.5.0-cp311-cp311-manylinux2014_x86_64.manylinux_2_17_x86_64.whl (731 kB)\n",
      "Using cached openqasm3-1.0.1-py3-none-any.whl (541 kB)\n",
      "Using cached antlr4_python3_runtime-4.13.2-py3-none-any.whl (144 kB)\n",
      "Installing collected packages: openqasm3, antlr4_python3_runtime, pydantic-core, pyqasm, pydantic, qbraid\n",
      "\u001b[2K  Attempting uninstall: pydantic-core━━━━━━━━━━━\u001b[0m \u001b[32m0/6\u001b[0m [openqasm3]\n",
      "\u001b[2K    Found existing installation: pydantic_core 2.33.2m0/6\u001b[0m [openqasm3]\n",
      "\u001b[2K    Uninstalling pydantic_core-2.33.2:━━━━━━\u001b[0m \u001b[32m0/6\u001b[0m [openqasm3]\n",
      "\u001b[2K      Successfully uninstalled pydantic_core-2.33.232m0/6\u001b[0m [openqasm3]\n",
      "\u001b[2K  Attempting uninstall: pydantic[0m\u001b[90m━━━━━━━━━━━━━━━━━━━━━━━━━━\u001b[0m \u001b[32m2/6\u001b[0m [pydantic-core]\n",
      "\u001b[2K    Found existing installation: pydantic 2.11.7━━━━━━━━━━━━━━\u001b[0m \u001b[32m2/6\u001b[0m [pydantic-core]\n",
      "\u001b[2K    Uninstalling pydantic-2.11.7:90m━━━━━━━━━━━━━━━━━━━━━━━━━━\u001b[0m \u001b[32m2/6\u001b[0m [pydantic-core]\n",
      "\u001b[2K      Successfully uninstalled pydantic-2.11.70m\u001b[90m━━━━━━━━━━━━━\u001b[0m \u001b[32m4/6\u001b[0m [pydantic]]\n",
      "\u001b[2K   \u001b[90m━━━━━━━━━━━━━━━━━━━━━━━━━━━━━━━━━━━━━━━━\u001b[0m \u001b[32m6/6\u001b[0m [qbraid]2m5/6\u001b[0m [qbraid]c]\n",
      "\u001b[1A\u001b[2KSuccessfully installed antlr4_python3_runtime-4.13.2 openqasm3-1.0.1 pydantic-2.11.1 pydantic-core-2.33.0 pyqasm-0.5.0 qbraid-0.9.10\n",
      "Collecting qbraid_qir\n",
      "  Using cached qbraid_qir-0.4.0-py3-none-any.whl.metadata (8.6 kB)\n",
      "Collecting pyqir<0.11.0,>=0.10.0 (from qbraid_qir)\n",
      "  Using cached pyqir-0.10.9-cp38-abi3-manylinux_2_31_x86_64.whl.metadata (4.2 kB)\n",
      "Using cached qbraid_qir-0.4.0-py3-none-any.whl (37 kB)\n",
      "Using cached pyqir-0.10.9-cp38-abi3-manylinux_2_31_x86_64.whl (2.3 MB)\n",
      "Installing collected packages: pyqir, qbraid_qir\n",
      "\u001b[2K   \u001b[90m━━━━━━━━━━━━━━━━━━━━━━━━━━━━━━━━━━━━━━━━\u001b[0m \u001b[32m2/2\u001b[0m [qbraid_qir]\n",
      "\u001b[1A\u001b[2KSuccessfully installed pyqir-0.10.9 qbraid_qir-0.4.0\n",
      "Collecting ply\n",
      "  Using cached ply-3.11-py2.py3-none-any.whl.metadata (844 bytes)\n",
      "Using cached ply-3.11-py2.py3-none-any.whl (49 kB)\n",
      "Installing collected packages: ply\n",
      "Successfully installed ply-3.11\n"
     ]
    }
   ],
   "source": [
    "!pip install --upgrade pip\n",
    "!pip install qiskit\n",
    "!pip install qutip\n",
    "!pip install pylatexenc\n",
    "!pip install cirq\n",
    "!pip install qbraid\n",
    "!pip install qbraid_qir\n",
    "!pip install ply\n"
   ]
  },
  {
   "cell_type": "code",
   "execution_count": 2,
   "metadata": {},
   "outputs": [],
   "source": [
    "\n",
    "from typing import List, Tuple, Any\n",
    "import numpy as np\n",
    "\n",
    "import cirq\n",
    "from qbraid import QbraidProvider, ConversionGraph, QPROGRAM_REGISTRY, transpile\n",
    "from qiskit import QuantumRegister, ClassicalRegister, QuantumCircuit\n",
    "import qiskit\n",
    "from qbraid_qir.cirq import cirq_to_qir\n"
   ]
  },
  {
   "cell_type": "code",
   "execution_count": 3,
   "metadata": {},
   "outputs": [
    {
     "data": {
      "text/plain": [
       "{'cirq': cirq.circuits.circuit.Circuit,\n",
       " 'qiskit': qiskit.circuit.quantumcircuit.QuantumCircuit,\n",
       " 'openqasm3': openqasm3.ast.Program,\n",
       " 'qasm3': str,\n",
       " 'qasm2': str,\n",
       " 'qasm2_kirin': str,\n",
       " 'ionq': qbraid.programs.typer.IonQDict,\n",
       " 'qubo': qbraid.programs.typer.QuboCoefficientsDict,\n",
       " 'pyqir': Module}"
      ]
     },
     "execution_count": 3,
     "metadata": {},
     "output_type": "execute_result"
    }
   ],
   "source": [
    "QPROGRAM_REGISTRY\n"
   ]
  },
  {
   "cell_type": "code",
   "execution_count": 4,
   "metadata": {},
   "outputs": [
    {
     "data": {
      "image/png": "[encoded data removed]",
      "text/plain": [
       "<Figure size 640x480 with 1 Axes>"
      ]
     },
     "metadata": {},
     "output_type": "display_data"
    }
   ],
   "source": [
    "# Confirm graph\n",
    "\n",
    "graph = ConversionGraph()\n",
    "graph.plot()\n"
   ]
  },
  {
   "cell_type": "code",
   "execution_count": 5,
   "metadata": {},
   "outputs": [],
   "source": [
    "def generate_circuit_for_problem() -> qiskit.QuantumCircuit:\n",
    "    \"\"\"\n",
    "    Generates a quantum circuit using Qiskit\n",
    "    \"\"\"\n",
    "\n",
    "    # Set up quantum circuit\n",
    "    q = QuantumRegister(2)\n",
    "    c = ClassicalRegister(2)\n",
    "    circuit = QuantumCircuit(q, c)\n",
    "    circuit.name = \"Test Circuit\"\n",
    "\n",
    "    # Perform Bell Test\n",
    "    circuit.h(q[0])\n",
    "    circuit.cx(q[0], q[1])\n",
    "\n",
    "    circuit.cx(q[0], q[1])\n",
    "    circuit.cz(q[0], q[1])\n",
    "\n",
    "    circuit.cy(q[0], q[1])\n",
    "    circuit.cx(q[0], q[1])\n",
    "\n",
    "    circuit.cx(q[0], q[1])\n",
    "\n",
    "    # Measure all qubits\n",
    "    circuit.measure(q, c)\n",
    "    return circuit\n",
    "\n",
    "qiskit_circuit = generate_circuit_for_problem()"
   ]
  },
  {
   "cell_type": "code",
   "execution_count": 6,
   "metadata": {},
   "outputs": [],
   "source": [
    "# Convert to cirq so that we can use the cirq_to_qir function to get to the right format for some azure endpoints\n",
    "\n",
    "cirq_circuit = transpile(qiskit_circuit, \"cirq\")"
   ]
  },
  {
   "cell_type": "code",
   "execution_count": 7,
   "metadata": {},
   "outputs": [
    {
     "name": "stdout",
     "output_type": "stream",
     "text": [
      "QIR circuit is: \n",
      "\n",
      "; ModuleID = 'circuit-6a5681c'\n",
      "source_filename = \"circuit-6a5681c\"\n",
      "\n",
      "%Qubit = type opaque\n",
      "%Result = type opaque\n",
      "\n",
      "define void @main() #0 {\n",
      "entry:\n",
      "  call void @__quantum__rt__initialize(i8* null)\n",
      "  call void @__quantum__qis__h__body(%Qubit* null)\n",
      "  call void @__quantum__qis__cnot__body(%Qubit* null, %Qubit* inttoptr (i64 1 to %Qubit*))\n",
      "  call void @__quantum__qis__cnot__body(%Qubit* null, %Qubit* inttoptr (i64 1 to %Qubit*))\n",
      "  call void @__quantum__qis__cz__body(%Qubit* null, %Qubit* inttoptr (i64 1 to %Qubit*))\n",
      "  call void @__quantum__qis__s__adj(%Qubit* inttoptr (i64 1 to %Qubit*))\n",
      "  call void @__quantum__qis__cnot__body(%Qubit* null, %Qubit* inttoptr (i64 1 to %Qubit*))\n",
      "  call void @__quantum__qis__s__body(%Qubit* inttoptr (i64 1 to %Qubit*))\n",
      "  call void @__quantum__qis__cnot__body(%Qubit* null, %Qubit* inttoptr (i64 1 to %Qubit*))\n",
      "  call void @__quantum__qis__cnot__body(%Qubit* null, %Qubit* inttoptr (i64 1 to %Qubit*))\n",
      "  call void @__quantum__qis__mz__body(%Qubit* null, %Result* null)\n",
      "  call void @__quantum__qis__mz__body(%Qubit* inttoptr (i64 1 to %Qubit*), %Result* inttoptr (i64 1 to %Result*))\n",
      "  call void @__quantum__rt__result_record_output(%Result* null, i8* null)\n",
      "  call void @__quantum__rt__result_record_output(%Result* inttoptr (i64 1 to %Result*), i8* null)\n",
      "  ret void\n",
      "}\n",
      "\n",
      "declare void @__quantum__rt__initialize(i8*)\n",
      "\n",
      "declare void @__quantum__qis__h__body(%Qubit*)\n",
      "\n",
      "declare void @__quantum__qis__cnot__body(%Qubit*, %Qubit*)\n",
      "\n",
      "declare void @__quantum__qis__cz__body(%Qubit*, %Qubit*)\n",
      "\n",
      "declare void @__quantum__qis__s__adj(%Qubit*)\n",
      "\n",
      "declare void @__quantum__qis__s__body(%Qubit*)\n",
      "\n",
      "declare void @__quantum__qis__mz__body(%Qubit*, %Result* writeonly) #1\n",
      "\n",
      "declare void @__quantum__rt__result_record_output(%Result*, i8*)\n",
      "\n",
      "attributes #0 = { \"entry_point\" \"output_labeling_schema\" \"qir_profiles\"=\"custom\" \"required_num_qubits\"=\"2\" \"required_num_results\"=\"2\" }\n",
      "attributes #1 = { \"irreversible\" }\n",
      "\n",
      "!llvm.module.flags = !{!0, !1, !2, !3}\n",
      "\n",
      "!0 = !{i32 1, !\"qir_major_version\", i32 1}\n",
      "!1 = !{i32 7, !\"qir_minor_version\", i32 0}\n",
      "!2 = !{i32 1, !\"dynamic_qubit_management\", i1 false}\n",
      "!3 = !{i32 1, !\"dynamic_result_management\", i1 false}\n",
      "\n",
      "QASM2 circuit is: \n",
      "\n",
      "OPENQASM 2.0;\n",
      "include \"qelib1.inc\";\n",
      "qreg q[2];\n",
      "creg m_c0_0[1];\n",
      "creg m_c0_1[1];\n",
      "h q[0];\n",
      "cx q[0], q[1];\n",
      "cx q[0], q[1];\n",
      "cz q[0], q[1];\n",
      "sdg q[1];\n",
      "cx q[0], q[1];\n",
      "s q[1];\n",
      "cx q[0], q[1];\n",
      "cx q[0], q[1];\n",
      "measure q[0] -> m_c0_0[0];\n",
      "measure q[1] -> m_c0_1[0];\n",
      "\n"
     ]
    }
   ],
   "source": [
    "qir_circuit = cirq_to_qir(cirq_circuit)\n",
    "qasm2_circuit = transpile(cirq_circuit, \"qasm2\")\n",
    "\n",
    "print(\"QIR circuit is: \\n\")\n",
    "print(str(qir_circuit))\n",
    "\n",
    "print(\"QASM2 circuit is: \\n\")\n",
    "print(qasm2_circuit)"
   ]
  },
  {
   "cell_type": "code",
   "execution_count": 8,
   "metadata": {},
   "outputs": [],
   "source": [
    "provider = QbraidProvider()"
   ]
  },
  {
   "cell_type": "markdown",
   "metadata": {},
   "source": [
    "# Rigetti Quantum Virtual Machine (simulator) and Ankaa-3"
   ]
  },
  {
   "cell_type": "code",
   "execution_count": 13,
   "metadata": {},
   "outputs": [],
   "source": [
    "# Rigetti quantum virtual machine simulator\n",
    "\n",
    "backend = provider.get_device(\"rigetti.sim.qvm\")\n",
    "job = backend.run(qir_circuit, shots=1000, entrypoint=\"main\")"
   ]
  },
  {
   "cell_type": "code",
   "execution_count": 17,
   "metadata": {},
   "outputs": [
    {
     "data": {
      "text/plain": [
       "<QUEUED: 'job is queued'>"
      ]
     },
     "execution_count": 17,
     "metadata": {},
     "output_type": "execute_result"
    }
   ],
   "source": [
    "job.status()"
   ]
  },
  {
   "cell_type": "code",
   "execution_count": null,
   "metadata": {},
   "outputs": [],
   "source": [
    "job.result()"
   ]
  },
  {
   "cell_type": "code",
   "execution_count": null,
   "metadata": {},
   "outputs": [],
   "source": [
    "backend = provider.get_device(\"rigetti.qpu.ankaa-3\")\n",
    "job = backend.run(qir_circuit, shots=1000, entrypoint=\"main\")"
   ]
  },
  {
   "cell_type": "code",
   "execution_count": null,
   "metadata": {},
   "outputs": [],
   "source": [
    "job.status()"
   ]
  },
  {
   "cell_type": "code",
   "execution_count": null,
   "metadata": {},
   "outputs": [],
   "source": [
    "job.result()"
   ]
  },
  {
   "cell_type": "markdown",
   "metadata": {},
   "source": [
    "# Quantinuum H1-1 quantinuum.sim.h1-1sc"
   ]
  },
  {
   "cell_type": "code",
   "execution_count": null,
   "metadata": {},
   "outputs": [],
   "source": [
    "\n",
    "backend = provider.get_device(\"quantinuum.sim.h1-1sc\")\n",
    "\n",
    "job = backend.run(qasm2_circuit, shots=10)"
   ]
  },
  {
   "cell_type": "code",
   "execution_count": null,
   "metadata": {},
   "outputs": [],
   "source": [
    "job.status()"
   ]
  },
  {
   "cell_type": "code",
   "execution_count": null,
   "metadata": {},
   "outputs": [],
   "source": [
    "job.result()  # Wait for the job to complete and get the results\n",
    "result = job.result()\n",
    "result.data.get_counts()  # Get the counts of the measurement results"
   ]
  },
  {
   "cell_type": "code",
   "execution_count": null,
   "metadata": {},
   "outputs": [],
   "source": [
    "# This just means that the syntax checker passed. Now we can emulate!"
   ]
  },
  {
   "cell_type": "markdown",
   "metadata": {},
   "source": [
    "# Quantinuum H1-1 Simulator quantinuum.sim.h1-1e"
   ]
  },
  {
   "cell_type": "code",
   "execution_count": null,
   "metadata": {},
   "outputs": [],
   "source": [
    "# QASM2\n",
    "\n",
    "backend = provider.get_device(\"quantinuum.sim.h1-1e\")\n",
    "\n",
    "job = backend.run(qasm2_circuit, shots=10)"
   ]
  },
  {
   "cell_type": "code",
   "execution_count": null,
   "metadata": {},
   "outputs": [],
   "source": [
    "# Cancel job\n",
    "\n",
    "# job.cancel()  "
   ]
  },
  {
   "cell_type": "code",
   "execution_count": null,
   "metadata": {},
   "outputs": [],
   "source": [
    "job.status()"
   ]
  },
  {
   "cell_type": "code",
   "execution_count": null,
   "metadata": {},
   "outputs": [],
   "source": [
    "job.wait_for_final_state()  \n",
    "job.result()  # Wait for the job to complete and get the results\n",
    "result = job.result()"
   ]
  },
  {
   "cell_type": "code",
   "execution_count": null,
   "metadata": {},
   "outputs": [],
   "source": [
    "result.data.get_counts()  # Get the counts of the measurement results"
   ]
  },
  {
   "cell_type": "markdown",
   "metadata": {},
   "source": [
    "# Quantinuum H1-1 QPU quantinuum.qpu.h1-1 "
   ]
  },
  {
   "cell_type": "code",
   "execution_count": null,
   "metadata": {},
   "outputs": [],
   "source": [
    "# QASM2\n",
    "\n",
    "backend = provider.get_device(\"quantinuum.qpu.h1-1\")\n",
    "\n",
    "job = backend.run(qasm2_circuit, entrypoint=\"main\", shots=10)"
   ]
  },
  {
   "cell_type": "code",
   "execution_count": null,
   "metadata": {},
   "outputs": [],
   "source": [
    "job.status()  # Check the status of the job"
   ]
  },
  {
   "cell_type": "code",
   "execution_count": null,
   "metadata": {
    "scrolled": true
   },
   "outputs": [],
   "source": [
    "job.cancel()  # Cancel the job\n"
   ]
  },
  {
   "cell_type": "code",
   "execution_count": null,
   "metadata": {},
   "outputs": [],
   "source": [
    "result = job.result()  # Wait for the job to complete and get the results\n",
    "result.data.get_counts()  # Get the counts of measurement results"
   ]
  },
  {
   "cell_type": "code",
   "execution_count": null,
   "metadata": {},
   "outputs": [],
   "source": [
    "job.status()  # Check the status of the job"
   ]
  },
  {
   "cell_type": "markdown",
   "metadata": {},
   "source": [
    "## IONQ"
   ]
  },
  {
   "cell_type": "markdown",
   "metadata": {},
   "source": [
    "Submit to the ionq simulator or the ionq qpu"
   ]
  },
  {
   "cell_type": "code",
   "execution_count": null,
   "metadata": {},
   "outputs": [],
   "source": [
    "backend = provider.get_device(\"ionq.simulator\")  # List available devices\n",
    "\n",
    "job = backend.run(\n",
    "    qir_circuit,\n",
    "    shots=10,  # Number of shots for the quantum job\n",
    ")"
   ]
  },
  {
   "cell_type": "code",
   "execution_count": null,
   "metadata": {},
   "outputs": [],
   "source": [
    "result = job.result()\n",
    "result"
   ]
  },
  {
   "cell_type": "code",
   "execution_count": null,
   "metadata": {},
   "outputs": [],
   "source": [
    "print(result.data.get_counts())  # Get the counts of measurement results"
   ]
  },
  {
   "cell_type": "code",
   "execution_count": null,
   "metadata": {},
   "outputs": [],
   "source": [
    "# With noise\n",
    "job = backend.run(qir_circuit, shots=1000, noise_model=\"aria-1\", error_mitigation={\"debias\": False},seed=5)\n",
    "\n"
   ]
  },
  {
   "cell_type": "code",
   "execution_count": null,
   "metadata": {
    "scrolled": true
   },
   "outputs": [],
   "source": [
    "job.cancel()  # Cancel the job"
   ]
  },
  {
   "cell_type": "code",
   "execution_count": null,
   "metadata": {},
   "outputs": [],
   "source": [
    "job.wait_for_final_state()\n",
    "\n",
    "result = job.result()"
   ]
  },
  {
   "cell_type": "code",
   "execution_count": null,
   "metadata": {},
   "outputs": [],
   "source": [
    "result.data.get_counts()  # Get the counts of measurement results"
   ]
  },
  {
   "cell_type": "code",
   "execution_count": null,
   "metadata": {},
   "outputs": [],
   "source": [
    "backend = provider.get_device(\"ionq.qpu.aria-1\")  # List available devices\n",
    "\n",
    "job = backend.run(\n",
    "    qir_circuit,\n",
    "    shots=10,  # Number of shots for the quantum job\n",
    ")"
   ]
  },
  {
   "cell_type": "code",
   "execution_count": null,
   "metadata": {},
   "outputs": [],
   "source": [
    "result = job.result()\n",
    "result"
   ]
  },
  {
   "cell_type": "code",
   "execution_count": null,
   "metadata": {},
   "outputs": [],
   "source": [
    "result.data.get_counts()  # Get the counts of measurement results"
   ]
  },
  {
   "cell_type": "markdown",
   "metadata": {},
   "source": [
    "## Pasqal \n"
   ]
  },
  {
   "cell_type": "code",
   "execution_count": null,
   "metadata": {},
   "outputs": [],
   "source": [
    "import pulser\n",
    "\n",
    "input_data = {}\n",
    "\t\n",
    "qubits = {\n",
    "    \"q0\": (0, 0),\n",
    "    \"q1\": (0, 10),\n",
    "    \"q2\": (8, 2),\n",
    "    \"q3\": (1, 15),\n",
    "    \"q4\": (-10, -3),\n",
    "    \"q5\": (-8, 5),\n",
    "}\n",
    "reg = pulser.Register(qubits)\n",
    "\n",
    "seq = pulser.Sequence(reg, pulser.devices.DigitalAnalogDevice)\n",
    "\n",
    "# print the available channels for your sequence\n",
    "print(seq.available_channels)\n",
    "# Declare a channel. In this example we will be using `rydberg_global`\n",
    "seq.declare_channel(\"ch0\", \"rydberg_global\")\n",
    "from pulser.waveforms import RampWaveform, BlackmanWaveform\n",
    "amp_wf = BlackmanWaveform(1000, np.pi)\n",
    "det_wf = RampWaveform(1000, -5, 5)\n",
    "pulse = pulser.Pulse(amp_wf, det_wf, 0)\n",
    "seq.add(pulse, \"ch0\")"
   ]
  },
  {
   "cell_type": "code",
   "execution_count": null,
   "metadata": {},
   "outputs": [],
   "source": [
    "backend = provider.get_device(\"pasqal.sim.emu-tn\")"
   ]
  },
  {
   "cell_type": "code",
   "execution_count": null,
   "metadata": {},
   "outputs": [],
   "source": [
    "job = backend.run(\n",
    "    run_input=seq,\n",
    "    shots=1,\n",
    ")"
   ]
  },
  {
   "cell_type": "code",
   "execution_count": null,
   "metadata": {},
   "outputs": [],
   "source": [
    "result = job.result()\n",
    "result"
   ]
  },
  {
   "cell_type": "code",
   "execution_count": null,
   "metadata": {},
   "outputs": [],
   "source": [
    "result.data.get_counts()  # Get the counts of measurement results"
   ]
  },
  {
   "cell_type": "code",
   "execution_count": null,
   "metadata": {},
   "outputs": [],
   "source": [
    "backend = provider.get_device(\"pasqal.qpu.fresnel\")"
   ]
  },
  {
   "cell_type": "code",
   "execution_count": null,
   "metadata": {},
   "outputs": [],
   "source": [
    "%pip install pulser-pasqal\n",
    "from pulser_pasqal import PasqalCloud\n",
    "\n",
    "devices = PasqalCloud().fetch_available_devices()\n",
    "QPU = devices[\"FRESNEL\"]"
   ]
  },
  {
   "cell_type": "code",
   "execution_count": null,
   "metadata": {},
   "outputs": [],
   "source": [
    "# let's say we are interested in the first layout available on the device\n",
    "layout = QPU.pre_calibrated_layouts[0]\n",
    "# Select traps 1, 3 and 5 of the layout to define the register\n",
    "traps = [1,3,5]\n",
    "reg = layout.define_register(*traps)\n",
    "# You can draw the resulting register to verify it matches your expectations\n",
    "reg.draw()"
   ]
  },
  {
   "cell_type": "code",
   "execution_count": null,
   "metadata": {},
   "outputs": [],
   "source": [
    "seq = pulser.Sequence(reg, QPU)\n",
    "\n",
    "# print the available channels for your sequence\n",
    "print(seq.available_channels)\n",
    "# Declare a channel. In this example we will be using `rydberg_global`\n",
    "seq.declare_channel(\"ch0\", \"rydberg_global\")\n",
    "from pulser.waveforms import RampWaveform, BlackmanWaveform\n",
    "amp_wf = BlackmanWaveform(1000, np.pi)\n",
    "det_wf = RampWaveform(1000, -5, 5)\n",
    "pulse = pulser.Pulse(amp_wf, det_wf, 0)\n",
    "seq.add(pulse, \"ch0\")"
   ]
  },
  {
   "cell_type": "code",
   "execution_count": null,
   "metadata": {},
   "outputs": [],
   "source": [
    "job = backend.run(\n",
    "    run_input=seq,\n",
    "    shots=1,\n",
    ")"
   ]
  },
  {
   "cell_type": "code",
   "execution_count": null,
   "metadata": {},
   "outputs": [],
   "source": [
    "job.cancel()  # Cancel the job"
   ]
  },
  {
   "cell_type": "code",
   "execution_count": null,
   "metadata": {},
   "outputs": [],
   "source": [
    "job.status()"
   ]
  },
  {
   "cell_type": "code",
   "execution_count": null,
   "metadata": {},
   "outputs": [],
   "source": [
    "result = job.result()\n",
    "result"
   ]
  },
  {
   "cell_type": "code",
   "execution_count": null,
   "metadata": {},
   "outputs": [],
   "source": [
    "result.data.get_counts()  # Get the counts of measurement results"
   ]
  }
 ],
 "metadata": {
  "kernelspec": {
   "display_name": "Python 3 [Default]",
   "language": "python",
   "name": "python3"
  },
  "language_info": {
   "codemirror_mode": {
    "name": "ipython",
    "version": 3
   },
   "file_extension": ".py",
   "mimetype": "text/x-python",
   "name": "python",
   "nbconvert_exporter": "python",
   "pygments_lexer": "ipython3",
   "version": "3.11.9"
  }
 },
 "nbformat": 4,
 "nbformat_minor": 4
}
